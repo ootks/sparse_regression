{
 "cells": [
  {
   "cell_type": "markdown",
   "id": "02f00341",
   "metadata": {},
   "source": [
    "# Heuristic Code"
   ]
  },
  {
   "cell_type": "code",
   "execution_count": 3,
   "id": "5efadd47",
   "metadata": {},
   "outputs": [],
   "source": [
    "import numpy as np\n",
    "\n",
    "def char_coeff_FL(X, k):\n",
    "    if k == 0:\n",
    "        return 1\n",
    "    elif k == 1:\n",
    "        return np.trace(X)\n",
    "    powers = [X]\n",
    "    half_k = int(k / 2) \n",
    "    for i in range(half_k):\n",
    "        powers.append(powers[-1] @ X)\n",
    "    traces = [np.trace(A) for A in powers]\n",
    "    for i in range(half_k, k):\n",
    "        traces.append(sum(sum(powers[-1] * powers[i-half_k])))\n",
    "    x = np.array([[fl_matrix_entry(i, j, traces) for j in range(k)] for i in range(k)])\n",
    "    return np.linalg.det(x)\n",
    "\n",
    "def fl_matrix_entry(i, j, l):\n",
    "    if i > j + 1:\n",
    "        return 0 \n",
    "    elif i == j + 1:\n",
    "        return (len(l) - i - 1)/(i+1)\n",
    "    else:\n",
    "        return l[j-i]/(i+1)\n",
    "\n",
    "def char_coeff_eigen(X, k):\n",
    "    return esp(np.linalg.eigvalsh(X), k)\n",
    "\n",
    "def esp(x, k):\n",
    "    n = len(x)\n",
    "    if k == 0:\n",
    "        return 1\n",
    "    if k == 1:\n",
    "        return sum(x)\n",
    "    S = np.zeros((n+1, k))\n",
    "    for j in range(1, n+1):\n",
    "        S[j, 0] = S[j-1, 0] + x[j-1]\n",
    "    for i in range(1, k):\n",
    "        for j in range(1, n+1):\n",
    "            S[j, i] = S[j-1, i] + x[j-1] * S[j-1, i-1]\n",
    "    return S[n, k-1]\n",
    "\n",
    "def char_poly_built(X, k):\n",
    "    return np.poly(X)[k]\n",
    "\n",
    "def char_coeff(X, k):\n",
    "    #if k < 8:\n",
    "    #return char_coeff_FL(X, k)\n",
    "    return char_coeff_eigen(X, k)\n",
    "    #return char_poly_built(X, k)\n",
    "\n",
    "def swap(X, i, j):\n",
    "    if i == j:\n",
    "        return\n",
    "    for k in range(len(X)):\n",
    "        X[k,i], X[k,j]  = X[k,j], X[k,i]\n",
    "    for k in range(len(X)):\n",
    "        X[i,k], X[j,k]  = X[j,k], X[i,k]\n",
    "\n",
    "def conditional_char(X, t, k):\n",
    "    schur = X[t:, t:] - X[t:, :t] @ np.linalg.inv(X[:t, :t]) @ X[:t, t:]\n",
    "    return np.linalg.det(X[:t, :t]) * char_coeff(schur, k-t)\n",
    "\n",
    "\n",
    "def find_subset(A, b, k):\n",
    "    n = A.shape[1]\n",
    "    T = []\n",
    "    npts = 5\n",
    "    # Use chebyshev nodes\n",
    "    xs = [np.cos((2*i-1)/(2*npts) * np.pi) for i in range(npts)]\n",
    "    X0 = np.transpose(A)@A\n",
    "    V0 = (np.transpose(A) @ np.outer(b, b) @ A)\n",
    "    Xs = [X0 + x * V0 for x in xs]\n",
    "    bests = []\n",
    "    for t in range(k):\n",
    "        best = -1\n",
    "        best_heur = 0\n",
    "        for j in range(t, n):\n",
    "            chars = []\n",
    "            for X in Xs:\n",
    "                swap(X, t, j)\n",
    "                chars.append(conditional_char(X/1000, t+1, k))\n",
    "                swap(X, t, j)\n",
    "            line = np.polyfit(xs, chars, 1)\n",
    "            heur = line[0]/line[1]\n",
    "            if heur > best_heur:\n",
    "                best = j\n",
    "                best_heur = heur\n",
    "        for X in Xs:\n",
    "            swap(X, t, best)\n",
    "        try:\n",
    "            while True:\n",
    "                best = T.index(best)\n",
    "        except ValueError:\n",
    "            T.append(best)\n",
    "        bests.append(best_heur - 1)\n",
    "    return T, bests\n",
    "\n",
    "def lin_reg(A, b):\n",
    "    temp = np.transpose(A) @ b\n",
    "    return np.dot(b, b) - np.dot(temp, np.linalg.inv(np.transpose(A) @ A) @ temp)"
   ]
  },
  {
   "cell_type": "markdown",
   "id": "caba34e6",
   "metadata": {},
   "source": [
    "## Orthogonal Matching Pursuit"
   ]
  },
  {
   "cell_type": "code",
   "execution_count": 4,
   "id": "50b1d00c",
   "metadata": {},
   "outputs": [],
   "source": [
    "def omp(A, b, k):\n",
    "    n = A.shape[1]\n",
    "    A = A.copy()\n",
    "    b = b.copy()\n",
    "    T = []\n",
    "    bests = []\n",
    "    for t in range(k):\n",
    "        best = -1\n",
    "        best_obj = None\n",
    "        \n",
    "        for i in range(n):\n",
    "            if np.linalg.norm(A[:,i]) < 1e-5:\n",
    "                continue\n",
    "            obj = np.dot(b, A[:,i]) / np.linalg.norm(A[:,i])\n",
    "            if best_obj is None or obj > best_obj:\n",
    "                best = i\n",
    "                best_obj = obj \n",
    "                \n",
    "        T.append(best)\n",
    "        best_vec = A[:, best].copy() / np.linalg.norm(A[:,best])\n",
    "        for i in range(n):\n",
    "            A[:,i] -= np.dot(best_vec, A[:,i]) * best_vec\n",
    "        b -= np.dot(best_vec, b) * best_vec\n",
    "        bests.append(np.linalg.norm(b)**2)\n",
    "    return T, bests"
   ]
  },
  {
   "cell_type": "markdown",
   "id": "balanced-search",
   "metadata": {},
   "source": [
    "# Test Code"
   ]
  },
  {
   "cell_type": "code",
   "execution_count": 18,
   "id": "painted-tunisia",
   "metadata": {},
   "outputs": [],
   "source": [
    "import time\n",
    "def hyp_test(A, b, k_min, k_max):\n",
    "    hyp_scores = dict()\n",
    "    hyp_timings = dict()\n",
    "    for i in range(k_min, k_max):\n",
    "        start_time = time.time()\n",
    "        T, bests = find_subset(A,b,i)\n",
    "        end_time = time.time()\n",
    "        hyp_timings[i] = end_time - start_time\n",
    "        hyp_scores[i] = lin_reg(A[:,T], b)        \n",
    "    return hyp_scores, hyp_timings\n",
    "\n",
    "def omp_test(A, b, k_min, k_max):\n",
    "    omp_scores = dict()\n",
    "    omp_timings = dict()\n",
    "    for i in range(k_min, k_max):\n",
    "        start_time = time.time()\n",
    "        T, bests = omp(A,b,i)\n",
    "        end_time = time.time()\n",
    "        omp_timings[i] = end_time - start_time\n",
    "        omp_scores[i] = lin_reg(A[:,T], b)\n",
    "    return omp_scores, omp_timings\n",
    "\n",
    "from sklearn import linear_model\n",
    "def lasso_test(A, b, threshold, alphas, k_min, k_max):\n",
    "    # Set the starting scores to be something larger than what we would expect\n",
    "    lasso_scores = {k : None for k in range(k_min, k_max)}\n",
    "    lasso_timings = dict()\n",
    "    for alpha in alphas:\n",
    "        # Use exponentially decreasing values of alpha to get different sizes of support\n",
    "        clf = linear_model.Lasso(alpha=alpha, max_iter=10000000)\n",
    "        start_time = time.time()\n",
    "        clf.fit(A,b)\n",
    "        end_time = time.time()\n",
    "        scores = sorted(list(enumerate(clf.coef_)), key=lambda x: -abs(x[1]))\n",
    "        ranking = [x[0] for x in scores]\n",
    "        for k in range(k_min, k_max):\n",
    "            T = ranking[:k]\n",
    "            score = lin_reg(A[:,T], b)\n",
    "            if lasso_scores[k] is None or score < lasso_scores[k]:\n",
    "                lasso_timings[k] = end_time - start_time\n",
    "                lasso_scores[k] = score\n",
    "    return lasso_scores, lasso_timings\n",
    "\n",
    "import matplotlib.pyplot as plt\n",
    "\n",
    "def plot_scores(hyp_scores, omp_scores, lasso_scores, k_min, k_max):\n",
    "    # plot lasso\n",
    "    if lasso_scores is not None:\n",
    "        lasso_xs = [k for k in range(k_min, k_max) if lasso_scores[k] is not None]\n",
    "        lasso_ys = [lasso_scores[k] for k in lasso_xs]\n",
    "        plt.plot(lasso_xs, lasso_ys, label=\"Lasso\")\n",
    "\n",
    "    # plot hyp\n",
    "    if hyp_scores is not None:\n",
    "        hyp_xs = list(range(k_min, k_max))\n",
    "        hyp_ys = [hyp_scores[k] for k in hyp_xs]\n",
    "        plt.plot(hyp_xs, hyp_ys, label=\"Greedy Cond\")\n",
    "\n",
    "    # plot omp|\n",
    "    if omp_scores is not None:\n",
    "        omp_xs = list(range(k_min, k_max))\n",
    "        omp_ys = [omp_scores[k] for k in omp_xs]\n",
    "        plt.plot(omp_xs, omp_ys, label=\"omp\")\n",
    "    \n",
    "    plt.xticks(list(range(k_min,k_max)))\n",
    "    plt.xlabel(\"k\")\n",
    "    plt.ylabel(\"L2 Error\")\n",
    "\n",
    "    plt.legend()\n",
    "    plt.show()"
   ]
  },
  {
   "cell_type": "markdown",
   "id": "8c876094",
   "metadata": {},
   "source": [
    "# Superconductivity Example"
   ]
  },
  {
   "cell_type": "code",
   "execution_count": 19,
   "id": "b7ef64bd",
   "metadata": {},
   "outputs": [
    {
     "data": {
      "image/png": "[encoded data removed]",
      "text/plain": [
       "<Figure size 432x288 with 1 Axes>"
      ]
     },
     "metadata": {
      "needs_background": "light"
     },
     "output_type": "display_data"
    },
    {
     "name": "stdout",
     "output_type": "stream",
     "text": [
      "[[2, 6.6976776123046875, 0.18719911575317383, 0.17616868019104004], [3, 7.268214225769043, 0.30234766006469727, 1.1501820087432861], [4, 8.108292818069458, 0.37868189811706543, 0.25760555267333984], [5, 9.325803756713867, 0.4738774299621582, 0.16773056983947754], [6, 10.09481692314148, 0.542060136795044, 0.17697429656982422], [7, 11.307845830917358, 0.694807767868042, 0.21107006072998047], [8, 12.199870347976685, 0.6727960109710693, 0.2021033763885498], [9, 13.409210443496704, 0.7703156471252441, 0.2933309078216553], [10, 14.645751476287842, 0.8720362186431885, 0.25760555267333984], [11, 15.970237016677856, 0.9646439552307129, 0.17697429656982422], [12, 17.40413761138916, 1.1187670230865479, 0.17697429656982422], [13, 18.80592703819275, 1.1102967262268066, 0.17697429656982422], [14, 20.251862287521362, 1.189605712890625, 0.3155937194824219], [15, 21.78556489944458, 1.236715316772461, 0.31125831604003906], [16, 23.432467699050903, 1.3498542308807373, 0.3749582767486572], [17, 33.33860397338867, 1.549480676651001, 0.3749582767486572], [18, 27.461145877838135, 2.1424002647399902, 1.1353225708007812], [19, 28.878764867782593, 1.5053670406341553, 1.1353225708007812]]\n"
     ]
    }
   ],
   "source": [
    "import pandas as pd\n",
    "df = pd.read_csv(\"/usr/people/kevinshu/Downloads/superconduct.csv\", delimiter=\",\")\n",
    "df = (df - df.mean())/df.std()\n",
    "A = df.to_numpy()\n",
    "\n",
    "b = A[:,-1]\n",
    "A = A[:,:-1]\n",
    "k_min = 2\n",
    "k_max = 20\n",
    "hyp_scores, hyp_timings = hyp_test(A, b, k_min, k_max)\n",
    "omp_scores, omp_timings = omp_test(A, b, k_min, k_max)\n",
    "lasso_scores, lasso_timings = lasso_test(A, b, 9e-02, [1.1 ** (t-65) for t in range(100)], k_min, k_max)\n",
    "plot_scores(hyp_scores, omp_scores, lasso_scores, k_min, k_max)\n",
    "print([[k,hyp_timings[k],omp_timings[k],lasso_timings[k] if k in lasso_timings else None] for k in range(k_min, k_max)])"
   ]
  },
  {
   "cell_type": "markdown",
   "id": "annual-brunei",
   "metadata": {},
   "source": [
    "# Violent Crime"
   ]
  },
  {
   "cell_type": "code",
   "execution_count": 21,
   "id": "involved-batman",
   "metadata": {},
   "outputs": [
    {
     "data": {
      "image/png": "[encoded data removed]",
      "text/plain": [
       "<Figure size 432x288 with 1 Axes>"
      ]
     },
     "metadata": {
      "needs_background": "light"
     },
     "output_type": "display_data"
    },
    {
     "name": "stdout",
     "output_type": "stream",
     "text": [
      "[[3, 4.034012079238892, 0.04151654243469238, 0.058420658111572266], [4, 4.873063325881958, 0.05467820167541504, 0.11518311500549316], [5, 6.50298285484314, 0.06798338890075684, 0.11826157569885254], [6, 7.997608661651611, 0.08088946342468262, 0.05702042579650879], [7, 10.97194766998291, 0.09411334991455078, 0.08289551734924316], [8, 11.638847827911377, 0.1067807674407959, 0.11345100402832031], [9, 13.557286024093628, 0.11992454528808594, 0.14581656455993652], [10, 15.621694087982178, 0.13257884979248047, 0.14824271202087402], [11, 17.907379627227783, 0.14574694633483887, 0.14824271202087402], [12, 19.954864501953125, 0.15844225883483887, 0.13022685050964355], [13, 22.343010425567627, 0.16969537734985352, 0.13022685050964355], [14, 24.464517831802368, 0.17610454559326172, 0.11518311500549316], [15, 27.380080699920654, 0.18267297744750977, 0.15450406074523926], [16, 29.97702980041504, 0.19087529182434082, 0.1651618480682373], [17, 33.22161364555359, 0.19556140899658203, 0.13022685050964355], [18, 36.02531409263611, 0.20281434059143066, 0.15450406074523926], [19, 38.513548612594604, 0.20850253105163574, 0.14824271202087402]]\n"
     ]
    }
   ],
   "source": [
    "import pandas as pd\n",
    "df = pd.read_csv(\"/usr/people/kevinshu/Downloads/CommViolPredUnnormalizedData.txt\", delimiter=\",\")\n",
    "# Only take interesting columns\n",
    "df = df.iloc[:,5:-17].replace(\"?\", None).dropna(axis=1)\n",
    "df = (df - df.mean())/df.std()\n",
    "A = df.to_numpy()\n",
    "b = A[:,-1]\n",
    "A = A[:,:-1]\n",
    "\n",
    "k_min = 3\n",
    "k_max = 20\n",
    "hyp_scores, hyp_timings = hyp_test(A, b, k_min, k_max)\n",
    "omp_scores, omp_timings = omp_test(A, b, k_min, k_max)\n",
    "lasso_scores, lasso_timings = lasso_test(A, b, 9e-02, [1.1 ** (t-150) for t in range(300)], k_min, k_max)\n",
    "plot_scores(hyp_scores, omp_scores, lasso_scores, k_min, k_max)\n",
    "print([[k,hyp_timings[k],omp_timings[k],lasso_timings[k] if k in lasso_timings else None] for k in range(k_min, k_max)])"
   ]
  },
  {
   "cell_type": "code",
   "execution_count": null,
   "id": "running-effects",
   "metadata": {},
   "outputs": [],
   "source": [
    "delta_scores, delta_timings = lasso_test(A, b, 9e-02, [1.1 ** (-400)], k_min, k_max)\n",
    "print(delta_scores)"
   ]
  },
  {
   "cell_type": "code",
   "execution_count": 342,
   "id": "rental-foundation",
   "metadata": {},
   "outputs": [
    {
     "name": "stdout",
     "output_type": "stream",
     "text": [
      "{3: None, 4: None, 5: None, 6: None, 7: None, 8: None, 9: None, 10: None, 11: 61.83619451649065, 12: None, 13: None, 14: None, 15: None, 16: None, 17: None, 18: None, 19: None}\n"
     ]
    }
   ],
   "source": [
    "print(delta_scores)"
   ]
  },
  {
   "cell_type": "markdown",
   "id": "db283108",
   "metadata": {},
   "source": [
    "# Sklearn Diabetes Data"
   ]
  },
  {
   "cell_type": "code",
   "execution_count": 22,
   "id": "a87b3843",
   "metadata": {
    "scrolled": true
   },
   "outputs": [
    {
     "data": {
      "image/png": "[encoded data removed]",
      "text/plain": [
       "<Figure size 432x288 with 1 Axes>"
      ]
     },
     "metadata": {
      "needs_background": "light"
     },
     "output_type": "display_data"
    },
    {
     "name": "stdout",
     "output_type": "stream",
     "text": [
      "[[3, 0.04265999794006348, 0.0024750232696533203, 0.0014157295227050781], [4, 0.05136728286743164, 0.003184795379638672, 0.0031328201293945312], [5, 0.06238842010498047, 0.003818988800048828, 0.0016391277313232422], [6, 0.07264399528503418, 0.004523754119873047, 0.0031328201293945312], [7, 0.08196353912353516, 0.005166530609130859, 0.0031328201293945312], [8, 0.13997340202331543, 0.0058286190032958984, 0.0031328201293945312]]\n"
     ]
    }
   ],
   "source": [
    "from sklearn.datasets import load_diabetes\n",
    "diabetes = load_diabetes()\n",
    "A = diabetes[\"data\"]\n",
    "for col in range(len(A[0])):\n",
    "    A[:, col] -= np.mean(A[:,col])\n",
    "    A[:, col] /= np.std(A[:,col])\n",
    "b = diabetes[\"target\"]\n",
    "b -= np.mean(b)\n",
    "b /= np.std(b)\n",
    "\n",
    "k_min = 3\n",
    "k_max = 9\n",
    "hyp_scores, hyp_timings = hyp_test(A, b, k_min, k_max)\n",
    "omp_scores, omp_timings = omp_test(A, b, k_min, k_max)\n",
    "lasso_scores, lasso_timings = lasso_test(A, b, 9e-02, [1.1 ** (t-65) for t in range(100)], k_min, k_max)\n",
    "plot_scores(hyp_scores, omp_scores, lasso_scores, k_min, k_max)\n",
    "print([[k,hyp_timings[k],omp_timings[k],lasso_timings[k] if k in lasso_timings else None] for k in range(k_min, k_max)])"
   ]
  },
  {
   "cell_type": "markdown",
   "id": "biological-rings",
   "metadata": {},
   "source": [
    "# Wine Dataset"
   ]
  },
  {
   "cell_type": "code",
   "execution_count": 23,
   "id": "efficient-prayer",
   "metadata": {},
   "outputs": [
    {
     "data": {
      "image/png": "[encoded data removed]",
      "text/plain": [
       "<Figure size 432x288 with 1 Axes>"
      ]
     },
     "metadata": {
      "needs_background": "light"
     },
     "output_type": "display_data"
    },
    {
     "name": "stdout",
     "output_type": "stream",
     "text": [
      "[[2, 0.08982658386230469, 0.0022912025451660156, 0.0047109127044677734], [3, 0.06108713150024414, 0.0029723644256591797, 0.001041412353515625], [4, 0.07883095741271973, 0.003671407699584961, 0.0047109127044677734], [5, 0.1011648178100586, 0.004515886306762695, 0.0047109127044677734], [6, 0.11860537528991699, 0.005314826965332031, 0.0047109127044677734], [7, 0.1562023162841797, 0.006138324737548828, 0.0047109127044677734], [8, 0.19443678855895996, 0.006859540939331055, 0.0011444091796875], [9, 0.41692638397216797, 0.011104583740234375, 0.0011210441589355469], [10, 0.23430418968200684, 0.010859012603759766, 0.001155853271484375], [11, 0.21643733978271484, 0.016420364379882812, 0.0047109127044677734]]\n"
     ]
    }
   ],
   "source": [
    "from sklearn.datasets import load_wine\n",
    "wine = load_wine()\n",
    "A = wine[\"data\"].astype(float)\n",
    "b = wine[\"target\"].astype(float)\n",
    "for col in range(len(A[0])):\n",
    "    A[:, col] -= np.mean(A[:,col])\n",
    "    A[:, col] /= np.std(A[:,col])\n",
    "b -= np.mean(b)\n",
    "b /= np.std(b)\n",
    "\n",
    "k_min = 2\n",
    "k_max = 12\n",
    "hyp_scores, hyp_timings = hyp_test(A, b, k_min, k_max)\n",
    "omp_scores, omp_timings = omp_test(A, b, k_min, k_max)\n",
    "lasso_scores, lasso_timings = lasso_test(A, b, 9e-02, [1.05 ** (t-400) for t in range(500)], k_min, k_max)\n",
    "plot_scores(hyp_scores, omp_scores, lasso_scores, k_min, k_max)\n",
    "print([[k,hyp_timings[k],omp_timings[k],lasso_timings[k] if k in lasso_timings else None] for k in range(k_min, k_max)])"
   ]
  },
  {
   "cell_type": "markdown",
   "id": "acquired-conviction",
   "metadata": {},
   "source": [
    "# Regression with random matrices"
   ]
  },
  {
   "cell_type": "code",
   "execution_count": 8,
   "id": "anticipated-interview",
   "metadata": {},
   "outputs": [],
   "source": [
    "from sklearn import linear_model\n",
    "clf = linear_model.Lasso(alpha=0.02)\n",
    "import random\n",
    "def test(n,m,k):\n",
    "    T = random.sample(list(range(n)), k)\n",
    "    T.sort()\n",
    "    print(\"T: \", T)\n",
    "    A = np.random.normal(loc = 0, scale = 1, size = (m,n))\n",
    "    b = sum(A[:,i] for i in T)\n",
    "    S1, scores1 = find_subset(A, b, k)\n",
    "    print(\"characteristic: \", S1)\n",
    "    S1.sort()\n",
    "    s1 = all(s == t for t, s in zip(T, S1))\n",
    "    lasso = clf.fit(A, b).coef_\n",
    "    S2 = [a[1] for a in sorted([(-abs(x),i) for i,x in enumerate(lasso)])[:k]]\n",
    "    S2.sort()\n",
    "    s2 = all(s == t for t, s in zip(T, S2))\n",
    "    S3, scores3 = omp(A,b,k)\n",
    "    print(\"omp: \", S3)\n",
    "    S3.sort()\n",
    "    s3 = all(s == t for t, s in zip(T, S3))\n",
    "    norm_b = np.linalg.norm(b)\n",
    "    print([(norm_b**2 - x1, x3) for x1, x3 in zip(scores1, scores3)])\n",
    "    return (s1,s2,s3)"
   ]
  },
  {
   "cell_type": "code",
   "execution_count": 9,
   "id": "explicit-stake",
   "metadata": {},
   "outputs": [
    {
     "name": "stdout",
     "output_type": "stream",
     "text": [
      "T:  [27, 34, 36, 43, 56, 98]\n",
      "characteristic:  [36, 34, 27, 56, 9, 35]\n",
      "omp:  [36, 34, 27, 56, 9, 35]\n",
      "[(132.46165359644783, 170.78247855407432), (87.24761500129657, 104.33627697565508), (53.30017007816417, 60.659663251765046), (36.855474466994195, 39.48010050398141), (25.4091277695793, 25.586777043254802), (17.689584294130213, 16.689584293785607)]\n",
      "T:  [6, 14, 19, 66, 72, 84]\n",
      "characteristic:  [19, 84, 72, 14, 6, 66]\n",
      "omp:  [19, 84, 72, 14, 6, 66]\n",
      "[(127.36954355563549, 164.92813744061894), (93.14826403419804, 111.0325140607149), (65.23987322492226, 74.20144418756637), (40.43791183947917, 43.49974608908199), (20.968842664671257, 21.029514679092333), (1.0000000002490879, 4.553861353503619e-30)]\n",
      "T:  [4, 20, 29, 32, 36, 47]\n",
      "characteristic:  [4, 32, 36, 47, 29, 20]\n",
      "omp:  [4, 32, 37, 36, 47, 29]\n",
      "[(58.43350223838078, 71.8438517173549), (47.25608603358313, 56.720495945218104), (37.968183787496116, 43.41403155002055), (27.124911366406153, 34.31808680764085), (18.82715897350232, 22.6110511021922), (0.9999999998855742, 15.849796458603393)]\n",
      "T:  [11, 21, 45, 56, 69, 93]\n",
      "characteristic:  [28, 93, 27, 86, 42, 87]\n",
      "omp:  [28, 93, 11, 56, 69, 21]\n",
      "[(86.81729108096158, 107.86612859694424), (66.91998504820764, 79.45719714055629), (54.716101918546414, 62.34211858010525), (43.990896180845155, 48.913313081401384), (36.725957383322594, 36.98707235829923), (30.365361735161514, 22.992734225742463)]\n",
      "T:  [1, 33, 54, 66, 97, 99]\n",
      "characteristic:  [54, 97, 67, 66, 33, 1]\n",
      "omp:  [54, 97, 49, 33, 66, 1]\n",
      "[(99.53813365747533, 125.0726219921707), (55.283653159463086, 64.77124155240338), (43.315106284599665, 50.66698761663735), (36.36966498235785, 41.3994730065692), (23.233728691706972, 29.42921196153761), (16.258264043171522, 18.831074482412575)]\n",
      "T:  [4, 26, 29, 33, 52, 62]\n",
      "characteristic:  [61, 62, 52, 29, 33, 4]\n",
      "omp:  [61, 62, 52, 29, 33, 4]\n",
      "[(97.91135755887186, 125.61535241950138), (83.05731407911234, 99.95619988403435), (64.86816831024277, 73.78882267776508), (50.37019766069264, 54.63946000955258), (33.97599001999271, 34.65061413432442), (20.913411461536157, 19.913411461563424)]\n",
      "T:  [32, 38, 53, 57, 89, 95]\n",
      "characteristic:  [95, 89, 38, 53, 32, 57]\n",
      "omp:  [95, 89, 38, 24, 31, 57]\n",
      "[(133.48892949148347, 163.66573630938075), (88.91423841715277, 102.31062129077617), (65.99206963760855, 74.46166551280469), (48.008823512770704, 50.91415203054542), (30.3179357824975, 39.567218605662134), (0.9999999990819219, 32.50067043290476)]\n",
      "T:  [8, 15, 33, 47, 49, 56]\n",
      "characteristic:  [15, 56, 49, 33, 8, 47]\n",
      "omp:  [15, 21, 47, 8, 6, 49]\n",
      "[(68.76339684049518, 81.91534359469023), (56.267616880514396, 64.28772439967533), (45.55603176622499, 53.13377630255402), (31.191572816223356, 34.08587387673741), (22.079349068720774, 25.18469429294094), (0.9999999999369606, 20.09669079459579)]\n",
      "T:  [34, 51, 56, 71, 87, 93]\n",
      "characteristic:  [51, 34, 56, 93, 71, 87]\n",
      "omp:  [51, 34, 56, 93, 71, 87]\n",
      "[(95.96201759546199, 121.14223450581378), (59.91585585248929, 69.53471557310634), (37.564618892656114, 40.9550694766962), (21.071909778571353, 21.489967088327784), (15.750796272129975, 15.372540125984322), (1.0000000000379714, 1.0782321802917477e-29)]\n",
      "T:  [10, 16, 34, 39, 90, 96]\n",
      "characteristic:  [16, 96, 39, 90, 10, 34]\n",
      "omp:  [16, 96, 39, 90, 10, 34]\n",
      "[(102.49450703011084, 130.76985780874463), (79.9592265052787, 98.79739809268985), (56.36435821911323, 63.85007351750217), (35.20341523660338, 37.614726448075665), (23.63856320460914, 23.831464647010215), (0.9999999999117222, 1.0205695368302403e-29)]\n",
      "[6, 10, 3]\n",
      "T:  [1, 30, 32, 61, 64, 82, 93]\n",
      "characteristic:  [64, 82, 93, 1, 32, 30, 61]\n",
      "omp:  [64, 82, 93, 1, 32, 30, 61]\n",
      "[(108.57310302540554, 145.5608573770937), (83.9687565246654, 106.31108678768376), (56.16272413234674, 65.87792755633875), (40.73668670616652, 44.48522925590707), (31.361712819999866, 32.93945504015557), (20.842689138047035, 20.773387698769344), (0.9999999995945927, 1.8774783618113142e-29)]\n",
      "T:  [3, 4, 8, 18, 34, 35, 88]\n",
      "characteristic:  [18, 40, 1, 52, 23, 83, 3]\n",
      "omp:  [18, 34, 8, 4, 35, 3, 88]\n",
      "[(93.99159559863814, 127.58267992205236), (66.36787575357603, 83.48772744229389), (52.95447900451586, 61.80984440264551), (46.19428321423089, 43.070249212164605), (33.34593902770055, 26.879526737518642), (26.10391578192693, 14.486429331010338), (21.16354198345371, 1.0745533531714145e-29)]\n",
      "T:  [11, 23, 56, 66, 77, 83, 92]\n",
      "characteristic:  [66, 23, 50, 11, 36, 27, 60]\n",
      "omp:  [66, 23, 50, 11, 73, 77, 56]\n",
      "[(116.35796040677663, 156.86938510666877), (76.17135528299983, 95.89878206415612), (54.777527109051476, 64.4315236793882), (43.19594853370563, 48.40400408520758), (34.150765946980016, 38.686227962503146), (25.809836908487966, 29.827490932498776), (20.107697461159773, 22.12185258145778)]\n",
      "T:  [30, 31, 41, 50, 65, 67, 77]\n",
      "characteristic:  [67, 39, 71, 61, 77, 50, 15]\n",
      "omp:  [67, 77, 50, 15, 65, 41, 30]\n",
      "[(117.20515006114334, 164.0714987700837), (86.01706018987596, 118.29651155146539), (68.1978837660605, 81.73719522141536), (56.11489392786808, 48.36730112953598), (46.88738132354186, 39.222836522386714), (36.90554960368851, 26.413378704352464), (27.619308039282572, 16.414670642347374)]\n",
      "T:  [39, 43, 57, 60, 68, 81, 89]\n",
      "characteristic:  [89, 71, 37, 43, 2, 31, 68]\n",
      "omp:  [89, 71, 43, 36, 27, 97, 55]\n",
      "[(88.49728680152077, 114.52781360418201), (59.709254490001996, 71.35979426709535), (49.64348840687332, 57.38154221603656), (39.42042663055419, 43.45476165107414), (34.06354614662989, 36.419583373112864), (30.254659787411214, 27.54467325466007), (25.531814282871238, 23.658445469671584)]\n",
      "T:  [19, 56, 65, 79, 80, 82, 97]\n",
      "characteristic:  [19, 2, 4, 56, 79, 82, 42]\n",
      "omp:  [19, 79, 56, 82, 83, 58, 34]\n",
      "[(92.71028831185825, 128.961903459091), (74.51189857604501, 95.11457797562826), (54.297320490627015, 63.26409982885611), (46.443270513329395, 38.58080389458501), (39.46267047251939, 24.96708447872022), (23.636575886689343, 18.91120754089755), (17.13508652238579, 14.502900312369581)]\n",
      "T:  [11, 56, 63, 67, 74, 78, 86]\n",
      "characteristic:  [74, 63, 86, 78, 67, 76, 30]\n",
      "omp:  [74, 63, 86, 78, 67, 76, 30]\n",
      "[(109.80420617506334, 140.65498172376604), (86.32093652507128, 106.29516413179466), (50.990681134864474, 60.67604412647062), (31.930673079451054, 35.88937127118009), (23.537803819272256, 25.35559728085253), (17.06677329443653, 16.937277854872764), (12.752345872001314, 11.752345872017752)]\n",
      "T:  [10, 14, 31, 56, 65, 76, 84]\n",
      "characteristic:  [31, 56, 7, 42, 43, 84, 8]\n",
      "omp:  [31, 56, 26, 0, 14, 65, 84]\n",
      "[(77.12583287572888, 97.05764114622521), (60.41906804003838, 72.01027492073506), (50.32056242243189, 57.83198596690413), (44.04675080334496, 43.680758321215166), (35.827843362284426, 36.74250184877636), (30.713051395427243, 31.066362618146044), (23.564365790761883, 23.124645001692155)]\n",
      "T:  [16, 30, 39, 52, 62, 71, 87]\n",
      "characteristic:  [71, 39, 87, 62, 30, 16, 52]\n",
      "omp:  [71, 39, 87, 62, 30, 16, 52]\n",
      "[(75.45132856695713, 91.2867105109815), (57.70077367312206, 67.57709767034578), (46.15775437363027, 51.983143517988516), (36.53705500971131, 40.07733493654694), (24.060461177106816, 25.0763684958387), (15.720711788107138, 15.424647860973419), (1.000000000147537, 8.408140691770727e-30)]\n",
      "T:  [24, 32, 41, 48, 50, 66, 98]\n",
      "characteristic:  [24, 32, 41, 66, 48, 50, 98]\n",
      "omp:  [24, 32, 41, 66, 48, 50, 98]\n",
      "[(83.14643319674151, 105.275877173247), (65.1645401068812, 79.06069715810769), (53.30799951036917, 63.112894060544), (41.36075198559874, 46.3562246820306), (25.732837690189513, 27.31829784800106), (16.088290679161844, 15.78064138606746), (1.0000000000186162, 7.919713573128358e-30)]\n",
      "[3, 7, 4]\n",
      "T:  [40, 52, 54, 55, 70, 79, 87, 93]\n",
      "characteristic:  [70, 40, 38, 3, 82, 80, 7, 5]\n",
      "omp:  [70, 40, 38, 89, 10, 44, 13, 87]\n",
      "[(133.2739428780657, 180.2097049741564), (83.92403077753755, 109.00165296837052), (68.60929371448395, 85.07721192391448), (58.56251083739667, 71.94815982383923), (47.11480272311309, 62.937892704135656), (36.70405673942426, 55.180402863368926), (27.533676899242238, 46.28975315397781), (20.376033907135252, 39.677410438020836)]\n",
      "T:  [3, 4, 16, 25, 37, 48, 72, 90]\n",
      "characteristic:  [48, 4, 16, 25, 90, 12, 27, 87]\n",
      "omp:  [48, 4, 16, 25, 90, 12, 87, 59]\n",
      "[(140.4926556026074, 193.1052769362807), (97.26099502592442, 129.73715905729216), (77.08169485470529, 98.41824415832436), (55.31026116697291, 67.01854703027215), (41.91059402456534, 47.06922525137398), (28.312837867464054, 30.311490475113963), (18.599401552259167, 18.855330021221445), (14.97608619556587, 13.601876756847817)]\n",
      "T:  [24, 25, 34, 63, 73, 75, 76, 95]\n"
     ]
    },
    {
     "name": "stdout",
     "output_type": "stream",
     "text": [
      "characteristic:  [75, 99, 73, 95, 63, 81, 7, 8]\n",
      "omp:  [75, 97, 63, 95, 73, 8, 49, 28]\n",
      "[(72.61619266432399, 95.8565390825988), (57.693982268349714, 74.66881830096082), (41.666774918775644, 61.653106216109784), (34.65394632127206, 43.518713302236364), (24.740610342540634, 30.84371692378834), (18.777306972284492, 26.018196793501467), (12.599413465725092, 22.04728579150451), (10.076549504513736, 18.042451627200037)]\n",
      "T:  [5, 9, 31, 32, 38, 43, 50, 75]\n",
      "characteristic:  [43, 75, 5, 26, 67, 61, 22, 52]\n",
      "omp:  [43, 75, 5, 31, 57, 32, 84, 9]\n",
      "[(106.17381547395219, 142.89085854101276), (86.02077528299567, 112.01096133174262), (49.77305677026092, 58.55252166914008), (38.92158593115599, 46.20764707803292), (31.003546744691334, 33.976863708227874), (23.295340148307872, 24.17178720591137), (19.540857878290183, 18.546293649623717), (14.695676911332896, 14.672648979539971)]\n",
      "T:  [0, 3, 11, 17, 19, 31, 71, 84]\n",
      "characteristic:  [17, 0, 52, 96, 58, 12, 75, 71]\n",
      "omp:  [17, 0, 52, 3, 32, 71, 31, 89]\n",
      "[(96.90201017318775, 132.34355761164562), (56.24571992561775, 71.63829025688673), (41.78654119574546, 49.93884353796713), (33.9884466542143, 40.16635006956412), (28.500070016255364, 28.133821812936123), (21.316842929303476, 22.08998052882059), (17.138028305376565, 11.379629574257507), (14.744862970978659, 9.764700017776024)]\n",
      "T:  [10, 13, 17, 22, 47, 60, 80, 89]\n",
      "characteristic:  [17, 25, 80, 42, 45, 93, 26, 44]\n",
      "omp:  [17, 25, 80, 60, 89, 69, 13, 10]\n",
      "[(100.62925758592758, 133.47037777098552), (66.47330837510655, 80.61107269530895), (49.37386230394179, 57.842420702032015), (37.068566468957954, 46.76319714539323), (32.21524020973544, 34.74615241275216), (26.5700087724654, 26.204852231183843), (21.698038217685337, 19.76607144992533), (18.53899761045645, 14.19340795980258)]\n",
      "T:  [5, 39, 47, 55, 59, 69, 72, 79]\n"
     ]
    },
    {
     "name": "stderr",
     "output_type": "stream",
     "text": [
      "/usr/lib/python3/dist-packages/sklearn/linear_model/_coordinate_descent.py:529: ConvergenceWarning: Objective did not converge. You might want to increase the number of iterations. Duality gap: 0.018660206081195063, tolerance: 0.017991064708052572\n",
      "  model = cd_fast.enet_coordinate_descent(\n"
     ]
    },
    {
     "name": "stdout",
     "output_type": "stream",
     "text": [
      "characteristic:  [55, 79, 69, 47, 39, 60, 88, 14]\n",
      "omp:  [55, 79, 69, 47, 39, 60, 68, 72]\n",
      "[(127.60218498612986, 180.84196311560837), (93.18519015190861, 128.20918790740018), (61.3363177116762, 77.21718866740216), (45.030495268939774, 53.641376968739195), (31.209859783920592, 34.99603017825701), (23.4490386289325, 24.43183767826282), (19.149179423450107, 20.152412300739687), (16.01547760587323, 15.313818342393546)]\n",
      "T:  [9, 31, 35, 47, 50, 55, 64, 90]\n",
      "characteristic:  [79, 46, 3, 18, 31, 9, 83, 4]\n",
      "omp:  [31, 55, 35, 90, 50, 9, 64, 47]\n",
      "[(134.36615558293704, 186.91717989258856), (109.23249751006168, 149.52404081546706), (91.59137683834365, 104.85374201115346), (72.22577146152065, 77.06902317608008), (58.36969608850046, 52.562471497393126), (46.68359643746149, 33.27695223008448), (36.15248312589662, 13.623255367477405), (29.754113459726597, 1.2684138502547878e-29)]\n",
      "T:  [19, 21, 22, 61, 70, 73, 81, 91]\n",
      "characteristic:  [21, 19, 18, 61, 24, 91, 22, 73]\n",
      "omp:  [21, 19, 18, 61, 24, 91, 22, 73]\n",
      "[(156.21363718389375, 224.57593650600833), (111.90783403511477, 153.25874954071887), (79.56246867794377, 97.37995205941792), (58.9829939327027, 68.19478202491176), (44.37440051691448, 48.74227896042872), (33.30145723839712, 35.24742649866168), (25.116045433656723, 25.111190307802573), (17.829706270295787, 16.8297062745195)]\n",
      "T:  [12, 13, 15, 45, 69, 91, 93, 99]\n",
      "characteristic:  [91, 99, 12, 45, 57, 0, 67, 60]\n",
      "omp:  [91, 57, 45, 12, 99, 0, 67, 18]\n",
      "[(100.22812687040947, 139.84175268729265), (79.4653493133149, 104.48084829591626), (57.09060709368373, 76.77559957616351), (41.42699734144864, 53.506842855652344), (30.11217628496121, 33.585639464020325), (22.30571961776309, 23.17752955046484), (19.02568913975196, 18.757037942470056), (15.506940812821341, 15.77552563938703)]\n",
      "[0, 5, 1]\n",
      "T:  [2, 8, 16, 34, 36, 67, 86, 88, 91]\n",
      "characteristic:  [55, 26, 86, 18, 34, 2, 32, 12, 88]\n",
      "omp:  [55, 26, 86, 18, 34, 2, 70, 10, 76]\n",
      "[(124.60673476625934, 178.89720212242528), (101.82788377803888, 142.59186799011707), (74.28226509158458, 98.66616061636404), (53.340479840809564, 65.92312375828301), (41.23843001914534, 48.24586584827248), (32.5292954398592, 36.30334394753745), (25.84577647495638, 29.08485746869819), (20.33832026805274, 22.52827720068804), (17.08828049642841, 17.30242735549561)]\n",
      "T:  [1, 8, 18, 30, 39, 43, 64, 84, 93]\n",
      "characteristic:  [41, 1, 84, 79, 81, 13, 5, 40, 39]\n",
      "omp:  [1, 84, 39, 18, 93, 43, 85, 8, 98]\n",
      "[(154.16802643891648, 252.2357711772251), (115.76861473323581, 172.46238547730394), (82.32152956358425, 129.12216484561569), (61.64770054901777, 96.76936528075008), (47.459518611943224, 56.546003395442014), (40.50797623471448, 36.298513649758355), (31.57790388466259, 26.615479871832594), (28.03713630940257, 20.057634192175637), (22.581090284730976, 12.883184051136011)]\n",
      "T:  [21, 65, 66, 71, 72, 74, 77, 88, 95]\n",
      "characteristic:  [77, 72, 66, 0, 61, 14, 99, 23, 86]\n",
      "omp:  [77, 72, 0, 66, 67, 95, 26, 43, 97]\n",
      "[(97.60918139376221, 143.78601354255397), (71.35812390419824, 97.3980901341556), (52.692126629390515, 64.87243146972901), (37.68697551806821, 44.54796008981122), (31.426038158299832, 37.58406134891221), (27.65182162205471, 31.330313403191173), (22.39151503680455, 24.487671327180088), (19.477813606796843, 19.773475525436204), (17.41791437708264, 15.512220710748615)]\n",
      "T:  [9, 14, 31, 46, 67, 69, 71, 81, 99]\n",
      "characteristic:  [99, 14, 57, 81, 70, 88, 58, 68, 93]\n",
      "omp:  [99, 14, 57, 81, 70, 88, 58, 68, 93]\n",
      "[(121.85540203732427, 190.93043025778752), (89.64460118875948, 133.2657574490739), (60.911427489368634, 83.09947449296106), (44.37077676906213, 57.65758075253992), (36.448144545606596, 44.884923048483095), (25.357338273038664, 28.388921136145193), (18.66105057450369, 19.55839540917752), (12.946508723150487, 12.486415111381955), (10.371612850740632, 9.3716128502854)]\n",
      "T:  [7, 18, 19, 28, 31, 44, 70, 71, 83]\n",
      "characteristic:  [18, 83, 19, 7, 48, 31, 24, 93, 86]\n",
      "omp:  [18, 83, 19, 7, 28, 71, 44, 70, 31]\n",
      "[(130.5199756204583, 187.63843810311204), (100.06972725343317, 138.9436445071572), (81.64060339340625, 107.7037197868455), (62.828521242798416, 80.29980255301857), (38.24060289070081, 54.027805070928714), (25.032731512331367, 36.69441527983964), (19.45162918505565, 22.23741076225588), (14.090886349870573, 11.226345280449696), (11.24337795825403, 1.666551718008239e-29)]\n",
      "T:  [10, 12, 18, 42, 47, 54, 67, 76, 78]\n",
      "characteristic:  [12, 54, 47, 91, 59, 14, 19, 67, 24]\n",
      "omp:  [12, 54, 47, 91, 52, 67, 19, 18, 90]\n",
      "[(88.56045442206893, 129.35488653225957), (71.78891370427598, 100.07355222501008), (52.39734534297253, 67.69289699544919), (40.71641319193782, 49.48452022193029), (31.502620730420517, 39.52882484971984), (25.2142216510008, 30.7544891108365), (20.06873939296412, 17.950174986237105), (15.358721406612005, 14.296893950086698), (11.38359223855386, 11.022641263408318)]\n",
      "T:  [3, 5, 13, 18, 22, 26, 29, 46, 57]\n",
      "characteristic:  [18, 13, 57, 84, 23, 22, 89, 5, 3]\n",
      "omp:  [18, 13, 57, 17, 6, 22, 3, 5, 29]\n",
      "[(165.69806778679683, 252.19404804922104), (108.18390839620676, 157.1672623177655), (88.66570924622795, 121.16034862649515), (67.95085647641002, 92.9861791020499), (50.68068098327399, 73.78428742112418), (39.28768878601454, 55.323363528793706), (29.7954626782045, 41.918010954728686), (20.119301692938166, 31.649555679858697), (12.163203801311624, 19.101440791488493)]\n",
      "T:  [5, 26, 29, 40, 41, 67, 78, 92, 94]\n",
      "characteristic:  [94, 44, 67, 40, 41, 62, 26, 5, 91]\n",
      "omp:  [94, 67, 40, 92, 41, 26, 5, 29, 78]\n",
      "[(148.01555671244074, 210.31016555201933), (111.34313273625983, 166.32759365950116), (88.00884369407487, 111.36708827886451), (67.45772261447652, 83.91588415055253), (50.66928899782238, 60.61276818935742), (40.56543116647612, 42.99808021965964), (29.77292435777133, 25.40395098617671), (20.318714223611494, 14.774050203706828), (14.228612034637251, 1.4486848050946326e-29)]\n",
      "T:  [1, 16, 19, 42, 49, 56, 67, 81, 93]\n",
      "characteristic:  [81, 67, 90, 56, 5, 69, 49, 1, 96]\n",
      "omp:  [81, 67, 56, 82, 91, 43, 57, 53, 47]\n",
      "[(96.13734653025955, 139.99540828516973), (73.59343754637553, 103.5129985954302), (53.34395219913327, 74.00190870346836), (39.61332462245636, 56.2524285224201), (30.225361699273407, 43.296958713875476), (21.60054153362188, 28.78993575127322), (16.63285319676112, 23.904417081074044), (11.647989129147788, 19.93581484305426), (8.293805704720171, 16.650038670367927)]\n",
      "T:  [4, 12, 17, 26, 51, 74, 90, 95, 99]\n",
      "characteristic:  [54, 4, 26, 75, 51, 13, 99, 95, 23]\n",
      "omp:  [54, 4, 60, 26, 29, 97, 21, 57, 12]\n",
      "[(97.96432919421346, 139.52197177867828), (74.75713713894197, 103.21214650526797), (63.21324104258399, 82.65657240214054), (49.151504887812195, 65.28619156501907), (38.18086780091312, 47.377667168796826), (27.80730151164201, 37.632115510153994), (23.99363250692167, 29.682960739457936), (19.30988134109876, 24.467870636179907), (15.664727268259327, 18.09191866107495)]\n",
      "[0, 4, 2]\n",
      "T:  [1, 2, 37, 45, 51, 63, 85, 86, 90, 92]\n",
      "characteristic:  [2, 86, 90, 51, 63, 92, 85, 45, 37, 1]\n",
      "omp:  [86, 2, 90, 45, 92, 63, 51, 85, 37, 1]\n",
      "[(199.28076428622379, 308.6606506182019), (152.47905688532927, 214.8385885065248), (116.242287000506, 160.27386966271266), (94.10833169299065, 119.82698654228535), (78.35007210775194, 93.9821894631175), (52.89608018509193, 71.9525641947795), (38.058982633533276, 48.47200599940188), (26.349492613743678, 27.90186481218362), (12.582757973702257, 12.102791533140262), (0.9999999955563226, 3.058646381879144e-29)]\n",
      "T:  [1, 3, 4, 13, 37, 39, 41, 52, 61, 95]\n",
      "characteristic:  [4, 61, 41, 39, 56, 1, 76, 68, 0, 54]\n",
      "omp:  [77, 13, 39, 41, 61, 1, 11, 56, 37, 5]\n",
      "[(135.97165163864463, 197.95969385059936), (118.3896668621709, 158.84257896148216), (95.72199533557358, 126.32439801908004), (81.16201447268463, 100.85813715914584), (64.76389334692445, 75.50817198043005), (53.23309271968782, 55.367118064214736), (39.86671087138629, 39.13438607504806), (32.967530267676494, 26.86934119965959), (25.398870878344184, 19.1775593967707), (16.449016281562763, 15.769927279420191)]\n",
      "T:  [19, 20, 23, 37, 42, 44, 45, 52, 78, 83]\n",
      "characteristic:  [52, 19, 12, 83, 23, 45, 37, 71, 48, 41]\n",
      "omp:  [52, 19, 65, 1, 37, 23, 82, 79, 91, 97]\n",
      "[(163.67904751297704, 243.5698853695631), (81.53864205899004, 115.42921723703284), (56.59590774756697, 95.04082539129526), (46.76733676293156, 76.01623020221496), (37.610949975435176, 59.85619731793548), (30.540792448485092, 42.87316122519422), (24.631495464795023, 30.54184131054179), (19.005654706183464, 25.09345866671273), (15.741481949021363, 21.99199345711166), (12.256121484157916, 18.473618927364996)]\n",
      "T:  [1, 10, 18, 31, 34, 36, 42, 46, 47, 64]\n"
     ]
    },
    {
     "name": "stdout",
     "output_type": "stream",
     "text": [
      "characteristic:  [98, 44, 46, 45, 81, 38, 52, 96, 61, 72]\n",
      "omp:  [42, 46, 18, 31, 47, 64, 1, 34, 10, 36]\n",
      "[(127.71405430359502, 209.5944324004951), (106.0410412769522, 146.8682303461697), (91.10599896869539, 112.67812613229172), (71.36160573535159, 82.01493439113922), (55.20954618533625, 57.487334364143855), (42.14659110983854, 38.57735645142024), (30.164729889026574, 31.120879015861846), (24.633311469900377, 22.59728044007596), (20.5639339461288, 12.727220206714474), (17.82218655277697, 1.5743430070958395e-29)]\n",
      "T:  [35, 38, 42, 44, 46, 49, 57, 59, 91, 98]\n",
      "characteristic:  [57, 46, 34, 44, 17, 53, 47, 65, 41, 96]\n",
      "omp:  [57, 46, 34, 44, 59, 98, 92, 91, 38, 85]\n",
      "[(158.38558815548362, 238.43760506548224), (127.5649819245109, 180.2458563437816), (86.75056500185082, 113.98099041992451), (69.87511037248322, 88.77934070217047), (61.905268167509405, 74.84378377493529), (47.90277318317118, 61.44875019248658), (35.38125830894626, 47.790048984474474), (27.3011242917961, 37.34180387110666), (22.39135259417776, 27.316676556987492), (17.47684562440122, 21.853260855980377)]\n",
      "T:  [2, 14, 16, 27, 41, 47, 58, 60, 80, 91]\n",
      "characteristic:  [47, 26, 80, 97, 86, 79, 65, 27, 1, 16]\n",
      "omp:  [47, 14, 27, 16, 80, 91, 58, 41, 60, 2]\n",
      "[(142.81403558499747, 225.6368272510707), (110.62505759667232, 162.33630545755386), (87.9514934881982, 133.3931316092304), (65.76932681850377, 106.98984673373766), (52.332153026683784, 85.96434168143719), (41.72812491773044, 64.0923926462542), (33.77614546712596, 30.997351446982968), (23.289854487977664, 21.28884166526041), (16.398088108035324, 10.875950135205947), (13.35323149392974, 3.5134932568450777e-29)]\n",
      "T:  [14, 16, 42, 49, 59, 60, 72, 87, 91, 94]\n",
      "characteristic:  [59, 94, 42, 63, 14, 16, 50, 91, 60, 49]\n",
      "omp:  [59, 94, 42, 63, 14, 16, 50, 91, 60, 49]\n",
      "[(136.81020293179003, 213.56258902404676), (97.96940862432817, 140.41540361222607), (71.90376064334012, 97.76037354875365), (59.09580484813165, 75.82816898368142), (49.2218231847435, 59.23889462594584), (40.39612303499837, 46.080388216787775), (35.14673396108219, 38.47628963688308), (31.431479455867645, 33.12922357131247), (25.448753716013698, 25.364472538561756), (19.640638886796808, 18.640638886239348)]\n",
      "T:  [10, 11, 27, 35, 61, 85, 93, 94, 96, 97]\n",
      "characteristic:  [85, 98, 16, 61, 11, 27, 56, 22, 93, 26]\n",
      "omp:  [85, 61, 69, 50, 27, 84, 96, 93, 57, 35]\n",
      "[(175.3161156831198, 277.84022080503223), (127.30404527656282, 186.89788909274998), (97.58791919348857, 144.50631621547305), (70.42578786232428, 109.72129315852573), (51.2206267627426, 92.71733885725759), (38.70258440735557, 70.35590264392891), (30.853727581236342, 57.512743831807065), (25.142671837004798, 43.86446905980724), (20.613734842000383, 30.839169676447316), (16.39692406512512, 26.556696047788726)]\n",
      "T:  [17, 18, 33, 36, 39, 54, 64, 81, 92, 98]\n",
      "characteristic:  [33, 39, 66, 75, 79, 71, 28, 10, 98, 73]\n",
      "omp:  [33, 39, 98, 64, 17, 36, 92, 18, 81, 54]\n",
      "[(144.87069160772614, 238.44424342520836), (120.2886990282706, 188.11862206676435), (96.20819243276432, 146.3663880563454), (79.61770639084654, 100.76982174044811), (63.65227962683775, 67.02403695997847), (47.41937111959021, 52.07700403602727), (38.75034111988498, 37.59548090354094), (30.32532218893391, 26.28474305473833), (25.385219208408216, 15.8043121247764), (20.87270816936166, 1.6641575463461228e-29)]\n",
      "T:  [0, 7, 18, 29, 47, 52, 53, 60, 81, 83]\n"
     ]
    },
    {
     "ename": "KeyboardInterrupt",
     "evalue": "",
     "output_type": "error",
     "traceback": [
      "\u001b[0;31m---------------------------------------------------------------------------\u001b[0m",
      "\u001b[0;31mKeyboardInterrupt\u001b[0m                         Traceback (most recent call last)",
      "\u001b[0;32m<ipython-input-9-63268c4df837>\u001b[0m in \u001b[0;36m<module>\u001b[0;34m\u001b[0m\n\u001b[1;32m      6\u001b[0m     \u001b[0mcounts\u001b[0m \u001b[0;34m=\u001b[0m \u001b[0;34m[\u001b[0m\u001b[0;36m0\u001b[0m\u001b[0;34m,\u001b[0m\u001b[0;36m0\u001b[0m\u001b[0;34m,\u001b[0m\u001b[0;36m0\u001b[0m\u001b[0;34m]\u001b[0m\u001b[0;34m\u001b[0m\u001b[0;34m\u001b[0m\u001b[0m\n\u001b[1;32m      7\u001b[0m     \u001b[0;32mfor\u001b[0m \u001b[0mi\u001b[0m \u001b[0;32min\u001b[0m \u001b[0mrange\u001b[0m\u001b[0;34m(\u001b[0m\u001b[0miters\u001b[0m\u001b[0;34m)\u001b[0m\u001b[0;34m:\u001b[0m\u001b[0;34m\u001b[0m\u001b[0;34m\u001b[0m\u001b[0m\n\u001b[0;32m----> 8\u001b[0;31m         \u001b[0;32mfor\u001b[0m \u001b[0mi\u001b[0m\u001b[0;34m,\u001b[0m \u001b[0mresult\u001b[0m \u001b[0;32min\u001b[0m \u001b[0menumerate\u001b[0m\u001b[0;34m(\u001b[0m\u001b[0mtest\u001b[0m\u001b[0;34m(\u001b[0m\u001b[0mn\u001b[0m\u001b[0;34m,\u001b[0m\u001b[0mm\u001b[0m\u001b[0;34m,\u001b[0m\u001b[0mk\u001b[0m\u001b[0;34m)\u001b[0m\u001b[0;34m)\u001b[0m\u001b[0;34m:\u001b[0m\u001b[0;34m\u001b[0m\u001b[0;34m\u001b[0m\u001b[0m\n\u001b[0m\u001b[1;32m      9\u001b[0m             \u001b[0;32mif\u001b[0m \u001b[0mresult\u001b[0m\u001b[0;34m:\u001b[0m\u001b[0;34m\u001b[0m\u001b[0;34m\u001b[0m\u001b[0m\n\u001b[1;32m     10\u001b[0m                 \u001b[0mcounts\u001b[0m\u001b[0;34m[\u001b[0m\u001b[0mi\u001b[0m\u001b[0;34m]\u001b[0m \u001b[0;34m+=\u001b[0m \u001b[0;36m1\u001b[0m\u001b[0;34m\u001b[0m\u001b[0;34m\u001b[0m\u001b[0m\n",
      "\u001b[0;32m<ipython-input-8-e895db1fc81f>\u001b[0m in \u001b[0;36mtest\u001b[0;34m(n, m, k)\u001b[0m\n\u001b[1;32m      8\u001b[0m     \u001b[0mA\u001b[0m \u001b[0;34m=\u001b[0m \u001b[0mnp\u001b[0m\u001b[0;34m.\u001b[0m\u001b[0mrandom\u001b[0m\u001b[0;34m.\u001b[0m\u001b[0mnormal\u001b[0m\u001b[0;34m(\u001b[0m\u001b[0mloc\u001b[0m \u001b[0;34m=\u001b[0m \u001b[0;36m0\u001b[0m\u001b[0;34m,\u001b[0m \u001b[0mscale\u001b[0m \u001b[0;34m=\u001b[0m \u001b[0;36m1\u001b[0m\u001b[0;34m,\u001b[0m \u001b[0msize\u001b[0m \u001b[0;34m=\u001b[0m \u001b[0;34m(\u001b[0m\u001b[0mm\u001b[0m\u001b[0;34m,\u001b[0m\u001b[0mn\u001b[0m\u001b[0;34m)\u001b[0m\u001b[0;34m)\u001b[0m\u001b[0;34m\u001b[0m\u001b[0;34m\u001b[0m\u001b[0m\n\u001b[1;32m      9\u001b[0m     \u001b[0mb\u001b[0m \u001b[0;34m=\u001b[0m \u001b[0msum\u001b[0m\u001b[0;34m(\u001b[0m\u001b[0mA\u001b[0m\u001b[0;34m[\u001b[0m\u001b[0;34m:\u001b[0m\u001b[0;34m,\u001b[0m\u001b[0mi\u001b[0m\u001b[0;34m]\u001b[0m \u001b[0;32mfor\u001b[0m \u001b[0mi\u001b[0m \u001b[0;32min\u001b[0m \u001b[0mT\u001b[0m\u001b[0;34m)\u001b[0m\u001b[0;34m\u001b[0m\u001b[0;34m\u001b[0m\u001b[0m\n\u001b[0;32m---> 10\u001b[0;31m     \u001b[0mS1\u001b[0m\u001b[0;34m,\u001b[0m \u001b[0mscores1\u001b[0m \u001b[0;34m=\u001b[0m \u001b[0mfind_subset\u001b[0m\u001b[0;34m(\u001b[0m\u001b[0mA\u001b[0m\u001b[0;34m,\u001b[0m \u001b[0mb\u001b[0m\u001b[0;34m,\u001b[0m \u001b[0mk\u001b[0m\u001b[0;34m)\u001b[0m\u001b[0;34m\u001b[0m\u001b[0;34m\u001b[0m\u001b[0m\n\u001b[0m\u001b[1;32m     11\u001b[0m     \u001b[0mprint\u001b[0m\u001b[0;34m(\u001b[0m\u001b[0;34m\"characteristic: \"\u001b[0m\u001b[0;34m,\u001b[0m \u001b[0mS1\u001b[0m\u001b[0;34m)\u001b[0m\u001b[0;34m\u001b[0m\u001b[0;34m\u001b[0m\u001b[0m\n\u001b[1;32m     12\u001b[0m     \u001b[0mS1\u001b[0m\u001b[0;34m.\u001b[0m\u001b[0msort\u001b[0m\u001b[0;34m(\u001b[0m\u001b[0;34m)\u001b[0m\u001b[0;34m\u001b[0m\u001b[0;34m\u001b[0m\u001b[0m\n",
      "\u001b[0;32m<ipython-input-3-9faf04e724ef>\u001b[0m in \u001b[0;36mfind_subset\u001b[0;34m(A, b, k)\u001b[0m\n\u001b[1;32m     80\u001b[0m             \u001b[0;32mfor\u001b[0m \u001b[0mX\u001b[0m \u001b[0;32min\u001b[0m \u001b[0mXs\u001b[0m\u001b[0;34m:\u001b[0m\u001b[0;34m\u001b[0m\u001b[0;34m\u001b[0m\u001b[0m\n\u001b[1;32m     81\u001b[0m                 \u001b[0mswap\u001b[0m\u001b[0;34m(\u001b[0m\u001b[0mX\u001b[0m\u001b[0;34m,\u001b[0m \u001b[0mt\u001b[0m\u001b[0;34m,\u001b[0m \u001b[0mj\u001b[0m\u001b[0;34m)\u001b[0m\u001b[0;34m\u001b[0m\u001b[0;34m\u001b[0m\u001b[0m\n\u001b[0;32m---> 82\u001b[0;31m                 \u001b[0mchars\u001b[0m\u001b[0;34m.\u001b[0m\u001b[0mappend\u001b[0m\u001b[0;34m(\u001b[0m\u001b[0mconditional_char\u001b[0m\u001b[0;34m(\u001b[0m\u001b[0mX\u001b[0m\u001b[0;34m/\u001b[0m\u001b[0;36m1000\u001b[0m\u001b[0;34m,\u001b[0m \u001b[0mt\u001b[0m\u001b[0;34m+\u001b[0m\u001b[0;36m1\u001b[0m\u001b[0;34m,\u001b[0m \u001b[0mk\u001b[0m\u001b[0;34m)\u001b[0m\u001b[0;34m)\u001b[0m\u001b[0;34m\u001b[0m\u001b[0;34m\u001b[0m\u001b[0m\n\u001b[0m\u001b[1;32m     83\u001b[0m                 \u001b[0mswap\u001b[0m\u001b[0;34m(\u001b[0m\u001b[0mX\u001b[0m\u001b[0;34m,\u001b[0m \u001b[0mt\u001b[0m\u001b[0;34m,\u001b[0m \u001b[0mj\u001b[0m\u001b[0;34m)\u001b[0m\u001b[0;34m\u001b[0m\u001b[0;34m\u001b[0m\u001b[0m\n\u001b[1;32m     84\u001b[0m             \u001b[0mline\u001b[0m \u001b[0;34m=\u001b[0m \u001b[0mnp\u001b[0m\u001b[0;34m.\u001b[0m\u001b[0mpolyfit\u001b[0m\u001b[0;34m(\u001b[0m\u001b[0mxs\u001b[0m\u001b[0;34m,\u001b[0m \u001b[0mchars\u001b[0m\u001b[0;34m,\u001b[0m \u001b[0;36m1\u001b[0m\u001b[0;34m)\u001b[0m\u001b[0;34m\u001b[0m\u001b[0;34m\u001b[0m\u001b[0m\n",
      "\u001b[0;32m<ipython-input-3-9faf04e724ef>\u001b[0m in \u001b[0;36mconditional_char\u001b[0;34m(X, t, k)\u001b[0m\n\u001b[1;32m     60\u001b[0m \u001b[0;32mdef\u001b[0m \u001b[0mconditional_char\u001b[0m\u001b[0;34m(\u001b[0m\u001b[0mX\u001b[0m\u001b[0;34m,\u001b[0m \u001b[0mt\u001b[0m\u001b[0;34m,\u001b[0m \u001b[0mk\u001b[0m\u001b[0;34m)\u001b[0m\u001b[0;34m:\u001b[0m\u001b[0;34m\u001b[0m\u001b[0;34m\u001b[0m\u001b[0m\n\u001b[1;32m     61\u001b[0m     \u001b[0mschur\u001b[0m \u001b[0;34m=\u001b[0m \u001b[0mX\u001b[0m\u001b[0;34m[\u001b[0m\u001b[0mt\u001b[0m\u001b[0;34m:\u001b[0m\u001b[0;34m,\u001b[0m \u001b[0mt\u001b[0m\u001b[0;34m:\u001b[0m\u001b[0;34m]\u001b[0m \u001b[0;34m-\u001b[0m \u001b[0mX\u001b[0m\u001b[0;34m[\u001b[0m\u001b[0mt\u001b[0m\u001b[0;34m:\u001b[0m\u001b[0;34m,\u001b[0m \u001b[0;34m:\u001b[0m\u001b[0mt\u001b[0m\u001b[0;34m]\u001b[0m \u001b[0;34m@\u001b[0m \u001b[0mnp\u001b[0m\u001b[0;34m.\u001b[0m\u001b[0mlinalg\u001b[0m\u001b[0;34m.\u001b[0m\u001b[0minv\u001b[0m\u001b[0;34m(\u001b[0m\u001b[0mX\u001b[0m\u001b[0;34m[\u001b[0m\u001b[0;34m:\u001b[0m\u001b[0mt\u001b[0m\u001b[0;34m,\u001b[0m \u001b[0;34m:\u001b[0m\u001b[0mt\u001b[0m\u001b[0;34m]\u001b[0m\u001b[0;34m)\u001b[0m \u001b[0;34m@\u001b[0m \u001b[0mX\u001b[0m\u001b[0;34m[\u001b[0m\u001b[0;34m:\u001b[0m\u001b[0mt\u001b[0m\u001b[0;34m,\u001b[0m \u001b[0mt\u001b[0m\u001b[0;34m:\u001b[0m\u001b[0;34m]\u001b[0m\u001b[0;34m\u001b[0m\u001b[0;34m\u001b[0m\u001b[0m\n\u001b[0;32m---> 62\u001b[0;31m     \u001b[0;32mreturn\u001b[0m \u001b[0mnp\u001b[0m\u001b[0;34m.\u001b[0m\u001b[0mlinalg\u001b[0m\u001b[0;34m.\u001b[0m\u001b[0mdet\u001b[0m\u001b[0;34m(\u001b[0m\u001b[0mX\u001b[0m\u001b[0;34m[\u001b[0m\u001b[0;34m:\u001b[0m\u001b[0mt\u001b[0m\u001b[0;34m,\u001b[0m \u001b[0;34m:\u001b[0m\u001b[0mt\u001b[0m\u001b[0;34m]\u001b[0m\u001b[0;34m)\u001b[0m \u001b[0;34m*\u001b[0m \u001b[0mchar_coeff\u001b[0m\u001b[0;34m(\u001b[0m\u001b[0mschur\u001b[0m\u001b[0;34m,\u001b[0m \u001b[0mk\u001b[0m\u001b[0;34m-\u001b[0m\u001b[0mt\u001b[0m\u001b[0;34m)\u001b[0m\u001b[0;34m\u001b[0m\u001b[0;34m\u001b[0m\u001b[0m\n\u001b[0m\u001b[1;32m     63\u001b[0m \u001b[0;34m\u001b[0m\u001b[0m\n\u001b[1;32m     64\u001b[0m \u001b[0;34m\u001b[0m\u001b[0m\n",
      "\u001b[0;32m<ipython-input-3-9faf04e724ef>\u001b[0m in \u001b[0;36mchar_coeff\u001b[0;34m(X, k)\u001b[0m\n\u001b[1;32m     47\u001b[0m     \u001b[0;31m#if k < 8:\u001b[0m\u001b[0;34m\u001b[0m\u001b[0;34m\u001b[0m\u001b[0;34m\u001b[0m\u001b[0m\n\u001b[1;32m     48\u001b[0m     \u001b[0;31m#return char_coeff_FL(X, k)\u001b[0m\u001b[0;34m\u001b[0m\u001b[0;34m\u001b[0m\u001b[0;34m\u001b[0m\u001b[0m\n\u001b[0;32m---> 49\u001b[0;31m     \u001b[0;32mreturn\u001b[0m \u001b[0mchar_coeff_eigen\u001b[0m\u001b[0;34m(\u001b[0m\u001b[0mX\u001b[0m\u001b[0;34m,\u001b[0m \u001b[0mk\u001b[0m\u001b[0;34m)\u001b[0m\u001b[0;34m\u001b[0m\u001b[0;34m\u001b[0m\u001b[0m\n\u001b[0m\u001b[1;32m     50\u001b[0m     \u001b[0;31m#return char_poly_built(X, k)\u001b[0m\u001b[0;34m\u001b[0m\u001b[0;34m\u001b[0m\u001b[0;34m\u001b[0m\u001b[0m\n\u001b[1;32m     51\u001b[0m \u001b[0;34m\u001b[0m\u001b[0m\n",
      "\u001b[0;32m<ipython-input-3-9faf04e724ef>\u001b[0m in \u001b[0;36mchar_coeff_eigen\u001b[0;34m(X, k)\u001b[0m\n\u001b[1;32m     25\u001b[0m \u001b[0;34m\u001b[0m\u001b[0m\n\u001b[1;32m     26\u001b[0m \u001b[0;32mdef\u001b[0m \u001b[0mchar_coeff_eigen\u001b[0m\u001b[0;34m(\u001b[0m\u001b[0mX\u001b[0m\u001b[0;34m,\u001b[0m \u001b[0mk\u001b[0m\u001b[0;34m)\u001b[0m\u001b[0;34m:\u001b[0m\u001b[0;34m\u001b[0m\u001b[0;34m\u001b[0m\u001b[0m\n\u001b[0;32m---> 27\u001b[0;31m     \u001b[0;32mreturn\u001b[0m \u001b[0mesp\u001b[0m\u001b[0;34m(\u001b[0m\u001b[0mnp\u001b[0m\u001b[0;34m.\u001b[0m\u001b[0mlinalg\u001b[0m\u001b[0;34m.\u001b[0m\u001b[0meigvalsh\u001b[0m\u001b[0;34m(\u001b[0m\u001b[0mX\u001b[0m\u001b[0;34m)\u001b[0m\u001b[0;34m,\u001b[0m \u001b[0mk\u001b[0m\u001b[0;34m)\u001b[0m\u001b[0;34m\u001b[0m\u001b[0;34m\u001b[0m\u001b[0m\n\u001b[0m\u001b[1;32m     28\u001b[0m \u001b[0;34m\u001b[0m\u001b[0m\n\u001b[1;32m     29\u001b[0m \u001b[0;32mdef\u001b[0m \u001b[0mesp\u001b[0m\u001b[0;34m(\u001b[0m\u001b[0mx\u001b[0m\u001b[0;34m,\u001b[0m \u001b[0mk\u001b[0m\u001b[0;34m)\u001b[0m\u001b[0;34m:\u001b[0m\u001b[0;34m\u001b[0m\u001b[0;34m\u001b[0m\u001b[0m\n",
      "\u001b[0;32m<ipython-input-3-9faf04e724ef>\u001b[0m in \u001b[0;36mesp\u001b[0;34m(x, k)\u001b[0m\n\u001b[1;32m     38\u001b[0m     \u001b[0;32mfor\u001b[0m \u001b[0mi\u001b[0m \u001b[0;32min\u001b[0m \u001b[0mrange\u001b[0m\u001b[0;34m(\u001b[0m\u001b[0;36m1\u001b[0m\u001b[0;34m,\u001b[0m \u001b[0mk\u001b[0m\u001b[0;34m)\u001b[0m\u001b[0;34m:\u001b[0m\u001b[0;34m\u001b[0m\u001b[0;34m\u001b[0m\u001b[0m\n\u001b[1;32m     39\u001b[0m         \u001b[0;32mfor\u001b[0m \u001b[0mj\u001b[0m \u001b[0;32min\u001b[0m \u001b[0mrange\u001b[0m\u001b[0;34m(\u001b[0m\u001b[0;36m1\u001b[0m\u001b[0;34m,\u001b[0m \u001b[0mn\u001b[0m\u001b[0;34m+\u001b[0m\u001b[0;36m1\u001b[0m\u001b[0;34m)\u001b[0m\u001b[0;34m:\u001b[0m\u001b[0;34m\u001b[0m\u001b[0;34m\u001b[0m\u001b[0m\n\u001b[0;32m---> 40\u001b[0;31m             \u001b[0mS\u001b[0m\u001b[0;34m[\u001b[0m\u001b[0mj\u001b[0m\u001b[0;34m,\u001b[0m \u001b[0mi\u001b[0m\u001b[0;34m]\u001b[0m \u001b[0;34m=\u001b[0m \u001b[0mS\u001b[0m\u001b[0;34m[\u001b[0m\u001b[0mj\u001b[0m\u001b[0;34m-\u001b[0m\u001b[0;36m1\u001b[0m\u001b[0;34m,\u001b[0m \u001b[0mi\u001b[0m\u001b[0;34m]\u001b[0m \u001b[0;34m+\u001b[0m \u001b[0mx\u001b[0m\u001b[0;34m[\u001b[0m\u001b[0mj\u001b[0m\u001b[0;34m-\u001b[0m\u001b[0;36m1\u001b[0m\u001b[0;34m]\u001b[0m \u001b[0;34m*\u001b[0m \u001b[0mS\u001b[0m\u001b[0;34m[\u001b[0m\u001b[0mj\u001b[0m\u001b[0;34m-\u001b[0m\u001b[0;36m1\u001b[0m\u001b[0;34m,\u001b[0m \u001b[0mi\u001b[0m\u001b[0;34m-\u001b[0m\u001b[0;36m1\u001b[0m\u001b[0;34m]\u001b[0m\u001b[0;34m\u001b[0m\u001b[0;34m\u001b[0m\u001b[0m\n\u001b[0m\u001b[1;32m     41\u001b[0m     \u001b[0;32mreturn\u001b[0m \u001b[0mS\u001b[0m\u001b[0;34m[\u001b[0m\u001b[0mn\u001b[0m\u001b[0;34m,\u001b[0m \u001b[0mk\u001b[0m\u001b[0;34m-\u001b[0m\u001b[0;36m1\u001b[0m\u001b[0;34m]\u001b[0m\u001b[0;34m\u001b[0m\u001b[0;34m\u001b[0m\u001b[0m\n\u001b[1;32m     42\u001b[0m \u001b[0;34m\u001b[0m\u001b[0m\n",
      "\u001b[0;31mKeyboardInterrupt\u001b[0m: "
     ]
    }
   ],
   "source": [
    "n = 100\n",
    "m = 30\n",
    "iters = 10\n",
    "count_dict = []\n",
    "for k in range(6,25):\n",
    "    counts = [0,0,0]\n",
    "    for i in range(iters):\n",
    "        for i, result in enumerate(test(n,m,k)):\n",
    "            if result:\n",
    "                counts[i] += 1\n",
    "    print(counts)\n",
    "    count_dict.append(counts)\n",
    "print(count_dict)"
   ]
  },
  {
   "cell_type": "code",
   "execution_count": null,
   "id": "acceptable-circus",
   "metadata": {},
   "outputs": [],
   "source": []
  }
 ],
 "metadata": {
  "kernelspec": {
   "display_name": "Python 3",
   "language": "python",
   "name": "python3"
  },
  "language_info": {
   "codemirror_mode": {
    "name": "ipython",
    "version": 3
   },
   "file_extension": ".py",
   "mimetype": "text/x-python",
   "name": "python",
   "nbconvert_exporter": "python",
   "pygments_lexer": "ipython3",
   "version": "3.9.2"
  }
 },
 "nbformat": 4,
 "nbformat_minor": 5
}
