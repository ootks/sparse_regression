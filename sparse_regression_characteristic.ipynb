{
 "cells": [
  {
   "cell_type": "markdown",
   "id": "02f00341",
   "metadata": {},
   "source": [
    "# Heuristic Code"
   ]
  },
  {
   "cell_type": "code",
   "execution_count": 141,
   "id": "5efadd47",
   "metadata": {},
   "outputs": [],
   "source": [
    "import numpy as np\n",
    "\n",
    "def char_coeff_FL(X, k):\n",
    "    if k == 0:\n",
    "        return 1\n",
    "    elif k == 1:\n",
    "        return np.trace(X)\n",
    "    powers = [X]\n",
    "    half_k = int(k / 2) \n",
    "    for i in range(half_k):\n",
    "        powers.append(powers[-1] @ X)\n",
    "    traces = [np.trace(A) for A in powers]\n",
    "    for i in range(half_k, k):\n",
    "        traces.append(sum(sum(powers[-1] * powers[i-half_k])))\n",
    "    x = np.array([[fl_matrix_entry(i, j, traces) for j in range(k)] for i in range(k)])\n",
    "    return np.linalg.det(x)\n",
    "\n",
    "def fl_matrix_entry(i, j, l):\n",
    "    if i > j + 1:\n",
    "        return 0 \n",
    "    elif i == j + 1:\n",
    "        return (len(l) - i - 1)/(i+1)\n",
    "    else:\n",
    "        return l[j-i]/(i+1)\n",
    "\n",
    "def char_coeff_eigen(X, k):\n",
    "    return esp(np.linalg.eigvalsh(X), k)\n",
    "\n",
    "def esp(x, k):\n",
    "    n = len(x)\n",
    "    if k == 0:\n",
    "        return 1\n",
    "    if k == 1:\n",
    "        return sum(x)\n",
    "    S = np.zeros((n+1, k))\n",
    "    for j in range(1, n+1):\n",
    "        S[j, 0] = S[j-1, 0] + x[j-1]\n",
    "    for i in range(1, k):\n",
    "        for j in range(1, n+1):\n",
    "            S[j, i] = S[j-1, i] + x[j-1] * S[j-1, i-1]\n",
    "    return S[n, k-1]\n",
    "\n",
    "def char_poly_built(X, k):\n",
    "    return np.poly(X)[k]\n",
    "\n",
    "def char_coeff(X, k):\n",
    "    #if k < 8:\n",
    "    #return char_coeff_FL(X, k)\n",
    "    return char_coeff_eigen(X, k)\n",
    "    #return char_poly_built(X, k)\n",
    "\n",
    "def swap(X, i, j):\n",
    "    if i == j:\n",
    "        return\n",
    "    for k in range(len(X)):\n",
    "        X[k,i], X[k,j]  = X[k,j], X[k,i]\n",
    "    for k in range(len(X)):\n",
    "        X[i,k], X[j,k]  = X[j,k], X[i,k]\n",
    "\n",
    "def conditional_char(X, t, k):\n",
    "    schur = X[t:, t:] - X[t:, :t] @ np.linalg.inv(X[:t, :t]) @ X[:t, t:]\n",
    "    return np.linalg.det(X[:t, :t]) * char_coeff(schur, k-t)\n",
    "\n",
    "\n",
    "def find_subset(A, b, k):\n",
    "    n = A.shape[1]\n",
    "    T = []\n",
    "    npts = 5\n",
    "    # Use chebyshev nodes\n",
    "    xs = [np.cos((2*i-1)/(2*npts) * np.pi) for i in range(npts)]\n",
    "    X0 = np.transpose(A)@A\n",
    "    V0 = (np.transpose(A) @ np.outer(b, b) @ A)\n",
    "    Xs = [X0 + x * V0 for x in xs]\n",
    "    bests = []\n",
    "    for t in range(k):\n",
    "        best = -1\n",
    "        best_heur = 0\n",
    "        for j in range(t, n):\n",
    "            chars = []\n",
    "            for X in Xs:\n",
    "                swap(X, t, j)\n",
    "                chars.append(conditional_char(X/1000, t+1, k))\n",
    "                swap(X, t, j)\n",
    "            line = np.polyfit(xs, chars, 1)\n",
    "            heur = line[0]/line[1]\n",
    "            if heur > best_heur:\n",
    "                best = j\n",
    "                best_heur = heur\n",
    "        for X in Xs:\n",
    "            swap(X, t, best)\n",
    "        try:\n",
    "            while True:\n",
    "                best = T.index(best)\n",
    "        except ValueError:\n",
    "            T.append(best)\n",
    "        bests.append(best_heur - 1)\n",
    "    return T, bests\n",
    "\n",
    "def lin_reg(A, b):\n",
    "    temp = np.transpose(A) @ b\n",
    "    return np.dot(b, b) - np.dot(temp, np.linalg.inv(np.transpose(A) @ A) @ temp)"
   ]
  },
  {
   "cell_type": "markdown",
   "id": "caba34e6",
   "metadata": {},
   "source": [
    "## Orthogonal Matching Pursuit"
   ]
  },
  {
   "cell_type": "code",
   "execution_count": 146,
   "id": "50b1d00c",
   "metadata": {},
   "outputs": [],
   "source": [
    "def omp(A, b, k):\n",
    "    n = A.shape[1]\n",
    "    A = A.copy()\n",
    "    b = b.copy()\n",
    "    T = []\n",
    "    bests = []\n",
    "    for t in range(k):\n",
    "        best = -1\n",
    "        best_obj = None\n",
    "        \n",
    "        for i in range(n):\n",
    "            if np.linalg.norm(A[:,i]) < 1e-5:\n",
    "                continue\n",
    "            obj = np.dot(b, A[:,i]) / np.linalg.norm(A[:,i])\n",
    "            if best_obj is None or obj > best_obj:\n",
    "                best = i\n",
    "                best_obj = obj \n",
    "                \n",
    "        T.append(best)\n",
    "        best_vec = A[:, best].copy() / np.linalg.norm(A[:,best])\n",
    "        for i in range(n):\n",
    "            A[:,i] -= np.dot(best_vec, A[:,i]) * best_vec\n",
    "        b -= np.dot(best_vec, b) * best_vec\n",
    "        bests.append(np.linalg.norm(b)**2)\n",
    "    return T, bests"
   ]
  },
  {
   "cell_type": "markdown",
   "id": "balanced-search",
   "metadata": {},
   "source": [
    "# Test Code"
   ]
  },
  {
   "cell_type": "code",
   "execution_count": 348,
   "id": "painted-tunisia",
   "metadata": {},
   "outputs": [],
   "source": [
    "import time\n",
    "def hyp_test(A, b, k_min, k_max):\n",
    "    hyp_scores = dict()\n",
    "    hyp_timings = dict()\n",
    "    for i in range(k_min, k_max):\n",
    "        start_time = time.time()\n",
    "        T, bests = find_subset(A,b,i)\n",
    "        end_time = time.time()\n",
    "        hyp_timings[i] = end_time - start_time\n",
    "        hyp_scores[i] = lin_reg(A[:,T], b)        \n",
    "    return hyp_scores, hyp_timings\n",
    "\n",
    "def omp_test(A, b, k_min, k_max):\n",
    "    omp_scores = dict()\n",
    "    omp_timings = dict()\n",
    "    for i in range(k_min, k_max):\n",
    "        start_time = time.time()\n",
    "        T, bests = omp(A,b,i)\n",
    "        end_time = time.time()\n",
    "        omp_timings[i] = end_time - start_time\n",
    "        omp_scores[i] = lin_reg(A[:,T], b)\n",
    "    return omp_scores, omp_timings\n",
    "\n",
    "from sklearn import linear_model\n",
    "def lasso_test(A, b, threshold, alphas, k_min, k_max):\n",
    "    # Set the starting scores to be something larger than what we would expect\n",
    "    lasso_scores = {k : None for k in range(k_min, k_max)}\n",
    "    lasso_timings = dict()\n",
    "    for alpha in alphas:\n",
    "        # Use exponentially decreasing values of alpha to get different sizes of support\n",
    "        clf = linear_model.Lasso(alpha=alpha, max_iter=10000000)\n",
    "        start_time = time.time()\n",
    "        clf.fit(A,b)\n",
    "        end_time = time.time()\n",
    "        T = [i for i in range(len(clf.coef_)) if abs(clf.coef_[i]) > threshold]\n",
    "        k = len(T)\n",
    "        if k >= k_max or k < k_min:\n",
    "            continue\n",
    "        score = lin_reg(A[:,T], b)\n",
    "        if lasso_scores[k] is None or score < lasso_scores[k]:\n",
    "            lasso_timings[k] = end_time - start_time\n",
    "            lasso_scores[k] = score\n",
    "    return lasso_scores, lasso_timings\n",
    "\n",
    "import matplotlib.pyplot as plt\n",
    "\n",
    "def plot_scores(hyp_scores, omp_scores, lasso_scores, k_min, k_max):\n",
    "    # plot lasso\n",
    "    if lasso_scores is not None:\n",
    "        lasso_xs = [k for k in range(k_min, k_max) if lasso_scores[k] is not None]\n",
    "        lasso_ys = [lasso_scores[k] for k in lasso_xs]\n",
    "        plt.plot(lasso_xs, lasso_ys, label=\"Lasso\")\n",
    "\n",
    "    # plot hyp\n",
    "    if hyp_scores is not None:\n",
    "        hyp_xs = list(range(k_min, k_max))\n",
    "        hyp_ys = [hyp_scores[k] for k in hyp_xs]\n",
    "        plt.plot(hyp_xs, hyp_ys, label=\"Greedy Cond\")\n",
    "\n",
    "    # plot omp|\n",
    "    if omp_scores is not None:\n",
    "        omp_xs = list(range(k_min, k_max))\n",
    "        omp_ys = [omp_scores[k] for k in omp_xs]\n",
    "        plt.plot(omp_xs, omp_ys, label=\"omp\")\n",
    "    \n",
    "    plt.xticks(list(range(k_min,k_max)))\n",
    "    plt.xlabel(\"k\")\n",
    "    plt.ylabel(\"L2 Error\")\n",
    "\n",
    "    plt.legend()\n",
    "    plt.show()"
   ]
  },
  {
   "cell_type": "markdown",
   "id": "8c876094",
   "metadata": {},
   "source": [
    "# Superconductivity Example"
   ]
  },
  {
   "cell_type": "code",
   "execution_count": 282,
   "id": "b7ef64bd",
   "metadata": {},
   "outputs": [
    {
     "data": {
      "image/png": "[encoded data removed]",
      "text/plain": [
       "<Figure size 432x288 with 1 Axes>"
      ]
     },
     "metadata": {
      "needs_background": "light"
     },
     "output_type": "display_data"
    },
    {
     "name": "stdout",
     "output_type": "stream",
     "text": [
      "[[2, 9.14022159576416, 0.2147073745727539, 0.061731815338134766], [3, 10.117825031280518, 0.40532708168029785, 0.08967947959899902], [4, 11.446189880371094, 0.32521843910217285, 0.09607195854187012], [5, 11.684353828430176, 0.4748208522796631, 0.17200708389282227], [6, 11.974141120910645, 0.6867637634277344, 0.17789530754089355], [7, 14.391232013702393, 0.5946424007415771, None], [8, 14.0404212474823, 0.7195501327514648, 0.32100963592529297], [9, 13.946961641311646, 0.9735229015350342, 0.3547210693359375], [10, 15.00916337966919, 0.7454178333282471, 0.470383882522583], [11, 16.31105613708496, 0.8535740375518799, None], [12, 18.629433631896973, 1.0357186794281006, 0.7184407711029053], [13, 23.79292368888855, 1.0091559886932373, None], [14, 24.24971842765808, 1.1123857498168945, 0.9578168392181396], [15, 25.97472333908081, 1.1280453205108643, None], [16, 32.018187046051025, 1.3508479595184326, 1.2568137645721436], [17, 28.216292142868042, 1.3294785022735596, None], [18, 39.61784887313843, 1.424013614654541, None], [19, 36.66846752166748, 1.564387321472168, 1.24981689453125]]\n"
     ]
    }
   ],
   "source": [
    "import pandas as pd\n",
    "df = pd.read_csv(\"/usr/people/kevinshu/Downloads/superconduct.csv\", delimiter=\",\")\n",
    "df = (df - df.mean())/df.std()\n",
    "A = df.to_numpy()\n",
    "\n",
    "b = A[:,-1]\n",
    "A = A[:,:-1]\n",
    "k_min = 2\n",
    "k_max = 20\n",
    "hyp_scores, hyp_timings = hyp_test(A, b, k_min, k_max)\n",
    "omp_scores, omp_timings = omp_test(A, b, k_min, k_max)\n",
    "lasso_scores, lasso_timings = lasso_test(A, b, 9e-02, [1.1 ** (t-65) for t in range(100)], k_min, k_max)\n",
    "plot_scores(hyp_scores, omp_scores, lasso_scores, k_min, k_max)\n",
    "print([[k,hyp_timings[k],omp_timings[k],lasso_timings[k] if k in lasso_timings else None] for k in range(k_min, k_max)])"
   ]
  },
  {
   "cell_type": "markdown",
   "id": "creative-insured",
   "metadata": {},
   "source": [
    "# Violent Crime"
   ]
  },
  {
   "cell_type": "code",
   "execution_count": 340,
   "id": "involved-batman",
   "metadata": {},
   "outputs": [
    {
     "name": "stderr",
     "output_type": "stream",
     "text": [
      "/usr/lib/python3/dist-packages/sklearn/linear_model/_coordinate_descent.py:529: ConvergenceWarning: Objective did not converge. You might want to increase the number of iterations. Duality gap: 27.017572266678002, tolerance: 0.22129999999999975\n",
      "  model = cd_fast.enet_coordinate_descent(\n",
      "/usr/lib/python3/dist-packages/sklearn/linear_model/_coordinate_descent.py:529: ConvergenceWarning: Objective did not converge. You might want to increase the number of iterations. Duality gap: 26.980682587161187, tolerance: 0.22129999999999975\n",
      "  model = cd_fast.enet_coordinate_descent(\n",
      "/usr/lib/python3/dist-packages/sklearn/linear_model/_coordinate_descent.py:529: ConvergenceWarning: Objective did not converge. You might want to increase the number of iterations. Duality gap: 26.940103029089844, tolerance: 0.22129999999999975\n",
      "  model = cd_fast.enet_coordinate_descent(\n",
      "/usr/lib/python3/dist-packages/sklearn/linear_model/_coordinate_descent.py:529: ConvergenceWarning: Objective did not converge. You might want to increase the number of iterations. Duality gap: 26.895469043036325, tolerance: 0.22129999999999975\n",
      "  model = cd_fast.enet_coordinate_descent(\n",
      "/usr/lib/python3/dist-packages/sklearn/linear_model/_coordinate_descent.py:529: ConvergenceWarning: Objective did not converge. You might want to increase the number of iterations. Duality gap: 26.846371254237475, tolerance: 0.22129999999999975\n",
      "  model = cd_fast.enet_coordinate_descent(\n",
      "/usr/lib/python3/dist-packages/sklearn/linear_model/_coordinate_descent.py:529: ConvergenceWarning: Objective did not converge. You might want to increase the number of iterations. Duality gap: 26.792358063675515, tolerance: 0.22129999999999975\n",
      "  model = cd_fast.enet_coordinate_descent(\n",
      "/usr/lib/python3/dist-packages/sklearn/linear_model/_coordinate_descent.py:529: ConvergenceWarning: Objective did not converge. You might want to increase the number of iterations. Duality gap: 26.73294216425835, tolerance: 0.22129999999999975\n",
      "  model = cd_fast.enet_coordinate_descent(\n",
      "/usr/lib/python3/dist-packages/sklearn/linear_model/_coordinate_descent.py:529: ConvergenceWarning: Objective did not converge. You might want to increase the number of iterations. Duality gap: 26.66758342387694, tolerance: 0.22129999999999975\n",
      "  model = cd_fast.enet_coordinate_descent(\n",
      "/usr/lib/python3/dist-packages/sklearn/linear_model/_coordinate_descent.py:529: ConvergenceWarning: Objective did not converge. You might want to increase the number of iterations. Duality gap: 26.595687760623917, tolerance: 0.22129999999999975\n",
      "  model = cd_fast.enet_coordinate_descent(\n",
      "/usr/lib/python3/dist-packages/sklearn/linear_model/_coordinate_descent.py:529: ConvergenceWarning: Objective did not converge. You might want to increase the number of iterations. Duality gap: 26.51660826310124, tolerance: 0.22129999999999975\n",
      "  model = cd_fast.enet_coordinate_descent(\n",
      "/usr/lib/python3/dist-packages/sklearn/linear_model/_coordinate_descent.py:529: ConvergenceWarning: Objective did not converge. You might want to increase the number of iterations. Duality gap: 26.42964765069735, tolerance: 0.22129999999999975\n",
      "  model = cd_fast.enet_coordinate_descent(\n",
      "/usr/lib/python3/dist-packages/sklearn/linear_model/_coordinate_descent.py:529: ConvergenceWarning: Objective did not converge. You might want to increase the number of iterations. Duality gap: 26.33395889348559, tolerance: 0.22129999999999975\n",
      "  model = cd_fast.enet_coordinate_descent(\n",
      "/usr/lib/python3/dist-packages/sklearn/linear_model/_coordinate_descent.py:529: ConvergenceWarning: Objective did not converge. You might want to increase the number of iterations. Duality gap: 26.228700053536418, tolerance: 0.22129999999999975\n",
      "  model = cd_fast.enet_coordinate_descent(\n",
      "/usr/lib/python3/dist-packages/sklearn/linear_model/_coordinate_descent.py:529: ConvergenceWarning: Objective did not converge. You might want to increase the number of iterations. Duality gap: 26.112941726550538, tolerance: 0.22129999999999975\n",
      "  model = cd_fast.enet_coordinate_descent(\n",
      "/usr/lib/python3/dist-packages/sklearn/linear_model/_coordinate_descent.py:529: ConvergenceWarning: Objective did not converge. You might want to increase the number of iterations. Duality gap: 25.98561850532247, tolerance: 0.22129999999999975\n",
      "  model = cd_fast.enet_coordinate_descent(\n",
      "/usr/lib/python3/dist-packages/sklearn/linear_model/_coordinate_descent.py:529: ConvergenceWarning: Objective did not converge. You might want to increase the number of iterations. Duality gap: 25.84553159061856, tolerance: 0.22129999999999975\n",
      "  model = cd_fast.enet_coordinate_descent(\n",
      "/usr/lib/python3/dist-packages/sklearn/linear_model/_coordinate_descent.py:529: ConvergenceWarning: Objective did not converge. You might want to increase the number of iterations. Duality gap: 25.691488756039945, tolerance: 0.22129999999999975\n",
      "  model = cd_fast.enet_coordinate_descent(\n",
      "/usr/lib/python3/dist-packages/sklearn/linear_model/_coordinate_descent.py:529: ConvergenceWarning: Objective did not converge. You might want to increase the number of iterations. Duality gap: 25.522065647024675, tolerance: 0.22129999999999975\n",
      "  model = cd_fast.enet_coordinate_descent(\n",
      "/usr/lib/python3/dist-packages/sklearn/linear_model/_coordinate_descent.py:529: ConvergenceWarning: Objective did not converge. You might want to increase the number of iterations. Duality gap: 25.335734218029216, tolerance: 0.22129999999999975\n",
      "  model = cd_fast.enet_coordinate_descent(\n",
      "/usr/lib/python3/dist-packages/sklearn/linear_model/_coordinate_descent.py:529: ConvergenceWarning: Objective did not converge. You might want to increase the number of iterations. Duality gap: 25.13081794219812, tolerance: 0.22129999999999975\n",
      "  model = cd_fast.enet_coordinate_descent(\n",
      "/usr/lib/python3/dist-packages/sklearn/linear_model/_coordinate_descent.py:529: ConvergenceWarning: Objective did not converge. You might want to increase the number of iterations. Duality gap: 24.905469531055072, tolerance: 0.22129999999999975\n",
      "  model = cd_fast.enet_coordinate_descent(\n",
      "/usr/lib/python3/dist-packages/sklearn/linear_model/_coordinate_descent.py:529: ConvergenceWarning: Objective did not converge. You might want to increase the number of iterations. Duality gap: 24.6568783365462, tolerance: 0.22129999999999975\n",
      "  model = cd_fast.enet_coordinate_descent(\n",
      "/usr/lib/python3/dist-packages/sklearn/linear_model/_coordinate_descent.py:529: ConvergenceWarning: Objective did not converge. You might want to increase the number of iterations. Duality gap: 24.38414707652774, tolerance: 0.22129999999999975\n",
      "  model = cd_fast.enet_coordinate_descent(\n",
      "/usr/lib/python3/dist-packages/sklearn/linear_model/_coordinate_descent.py:529: ConvergenceWarning: Objective did not converge. You might want to increase the number of iterations. Duality gap: 24.08590676074787, tolerance: 0.22129999999999975\n",
      "  model = cd_fast.enet_coordinate_descent(\n",
      "/usr/lib/python3/dist-packages/sklearn/linear_model/_coordinate_descent.py:529: ConvergenceWarning: Objective did not converge. You might want to increase the number of iterations. Duality gap: 23.760603081650583, tolerance: 0.22129999999999975\n",
      "  model = cd_fast.enet_coordinate_descent(\n",
      "/usr/lib/python3/dist-packages/sklearn/linear_model/_coordinate_descent.py:529: ConvergenceWarning: Objective did not converge. You might want to increase the number of iterations. Duality gap: 23.401990624983963, tolerance: 0.22129999999999975\n",
      "  model = cd_fast.enet_coordinate_descent(\n",
      "/usr/lib/python3/dist-packages/sklearn/linear_model/_coordinate_descent.py:529: ConvergenceWarning: Objective did not converge. You might want to increase the number of iterations. Duality gap: 23.005752212479695, tolerance: 0.22129999999999975\n",
      "  model = cd_fast.enet_coordinate_descent(\n",
      "/usr/lib/python3/dist-packages/sklearn/linear_model/_coordinate_descent.py:529: ConvergenceWarning: Objective did not converge. You might want to increase the number of iterations. Duality gap: 22.55424498224083, tolerance: 0.22129999999999975\n",
      "  model = cd_fast.enet_coordinate_descent(\n",
      "/usr/lib/python3/dist-packages/sklearn/linear_model/_coordinate_descent.py:529: ConvergenceWarning: Objective did not converge. You might want to increase the number of iterations. Duality gap: 22.09872603258362, tolerance: 0.22129999999999975\n",
      "  model = cd_fast.enet_coordinate_descent(\n"
     ]
    },
    {
     "name": "stderr",
     "output_type": "stream",
     "text": [
      "/usr/lib/python3/dist-packages/sklearn/linear_model/_coordinate_descent.py:529: ConvergenceWarning: Objective did not converge. You might want to increase the number of iterations. Duality gap: 21.58045919740839, tolerance: 0.22129999999999975\n",
      "  model = cd_fast.enet_coordinate_descent(\n",
      "/usr/lib/python3/dist-packages/sklearn/linear_model/_coordinate_descent.py:529: ConvergenceWarning: Objective did not converge. You might want to increase the number of iterations. Duality gap: 21.01150602166312, tolerance: 0.22129999999999975\n",
      "  model = cd_fast.enet_coordinate_descent(\n",
      "/usr/lib/python3/dist-packages/sklearn/linear_model/_coordinate_descent.py:529: ConvergenceWarning: Objective did not converge. You might want to increase the number of iterations. Duality gap: 20.386869797664133, tolerance: 0.22129999999999975\n",
      "  model = cd_fast.enet_coordinate_descent(\n",
      "/usr/lib/python3/dist-packages/sklearn/linear_model/_coordinate_descent.py:529: ConvergenceWarning: Objective did not converge. You might want to increase the number of iterations. Duality gap: 19.71720031288808, tolerance: 0.22129999999999975\n",
      "  model = cd_fast.enet_coordinate_descent(\n",
      "/usr/lib/python3/dist-packages/sklearn/linear_model/_coordinate_descent.py:529: ConvergenceWarning: Objective did not converge. You might want to increase the number of iterations. Duality gap: 18.975583453304818, tolerance: 0.22129999999999975\n",
      "  model = cd_fast.enet_coordinate_descent(\n",
      "/usr/lib/python3/dist-packages/sklearn/linear_model/_coordinate_descent.py:529: ConvergenceWarning: Objective did not converge. You might want to increase the number of iterations. Duality gap: 18.17097717656009, tolerance: 0.22129999999999975\n",
      "  model = cd_fast.enet_coordinate_descent(\n",
      "/usr/lib/python3/dist-packages/sklearn/linear_model/_coordinate_descent.py:529: ConvergenceWarning: Objective did not converge. You might want to increase the number of iterations. Duality gap: 17.294936572585645, tolerance: 0.22129999999999975\n",
      "  model = cd_fast.enet_coordinate_descent(\n",
      "/usr/lib/python3/dist-packages/sklearn/linear_model/_coordinate_descent.py:529: ConvergenceWarning: Objective did not converge. You might want to increase the number of iterations. Duality gap: 16.33700292993249, tolerance: 0.22129999999999975\n",
      "  model = cd_fast.enet_coordinate_descent(\n",
      "/usr/lib/python3/dist-packages/sklearn/linear_model/_coordinate_descent.py:529: ConvergenceWarning: Objective did not converge. You might want to increase the number of iterations. Duality gap: 15.188734217677842, tolerance: 0.22129999999999975\n",
      "  model = cd_fast.enet_coordinate_descent(\n",
      "/usr/lib/python3/dist-packages/sklearn/linear_model/_coordinate_descent.py:529: ConvergenceWarning: Objective did not converge. You might want to increase the number of iterations. Duality gap: 14.115612220228655, tolerance: 0.22129999999999975\n",
      "  model = cd_fast.enet_coordinate_descent(\n",
      "/usr/lib/python3/dist-packages/sklearn/linear_model/_coordinate_descent.py:529: ConvergenceWarning: Objective did not converge. You might want to increase the number of iterations. Duality gap: 12.954460138136664, tolerance: 0.22129999999999975\n",
      "  model = cd_fast.enet_coordinate_descent(\n",
      "/usr/lib/python3/dist-packages/sklearn/linear_model/_coordinate_descent.py:529: ConvergenceWarning: Objective did not converge. You might want to increase the number of iterations. Duality gap: 11.668987115489951, tolerance: 0.22129999999999975\n",
      "  model = cd_fast.enet_coordinate_descent(\n",
      "/usr/lib/python3/dist-packages/sklearn/linear_model/_coordinate_descent.py:529: ConvergenceWarning: Objective did not converge. You might want to increase the number of iterations. Duality gap: 10.28524055665525, tolerance: 0.22129999999999975\n",
      "  model = cd_fast.enet_coordinate_descent(\n",
      "/usr/lib/python3/dist-packages/sklearn/linear_model/_coordinate_descent.py:529: ConvergenceWarning: Objective did not converge. You might want to increase the number of iterations. Duality gap: 8.830959706822824, tolerance: 0.22129999999999975\n",
      "  model = cd_fast.enet_coordinate_descent(\n",
      "/usr/lib/python3/dist-packages/sklearn/linear_model/_coordinate_descent.py:529: ConvergenceWarning: Objective did not converge. You might want to increase the number of iterations. Duality gap: 7.322643565915055, tolerance: 0.22129999999999975\n",
      "  model = cd_fast.enet_coordinate_descent(\n",
      "/usr/lib/python3/dist-packages/sklearn/linear_model/_coordinate_descent.py:529: ConvergenceWarning: Objective did not converge. You might want to increase the number of iterations. Duality gap: 5.775902716271354, tolerance: 0.22129999999999975\n",
      "  model = cd_fast.enet_coordinate_descent(\n",
      "/usr/lib/python3/dist-packages/sklearn/linear_model/_coordinate_descent.py:529: ConvergenceWarning: Objective did not converge. You might want to increase the number of iterations. Duality gap: 4.290413877294462, tolerance: 0.22129999999999975\n",
      "  model = cd_fast.enet_coordinate_descent(\n",
      "/usr/lib/python3/dist-packages/sklearn/linear_model/_coordinate_descent.py:529: ConvergenceWarning: Objective did not converge. You might want to increase the number of iterations. Duality gap: 2.9002087534548835, tolerance: 0.22129999999999975\n",
      "  model = cd_fast.enet_coordinate_descent(\n",
      "/usr/lib/python3/dist-packages/sklearn/linear_model/_coordinate_descent.py:529: ConvergenceWarning: Objective did not converge. You might want to increase the number of iterations. Duality gap: 1.674722516260104, tolerance: 0.22129999999999975\n",
      "  model = cd_fast.enet_coordinate_descent(\n",
      "/usr/lib/python3/dist-packages/sklearn/linear_model/_coordinate_descent.py:529: ConvergenceWarning: Objective did not converge. You might want to increase the number of iterations. Duality gap: 0.6220983324704719, tolerance: 0.22129999999999975\n",
      "  model = cd_fast.enet_coordinate_descent(\n"
     ]
    },
    {
     "data": {
      "image/png": "[encoded data removed]",
      "text/plain": [
       "<Figure size 432x288 with 1 Axes>"
      ]
     },
     "metadata": {
      "needs_background": "light"
     },
     "output_type": "display_data"
    },
    {
     "name": "stdout",
     "output_type": "stream",
     "text": [
      "[[3, 4.110548973083496, 0.0410456657409668, 0.04728865623474121], [4, 6.94633412361145, 0.053557634353637695, 0.09480619430541992], [5, 11.667134761810303, 0.06649470329284668, 0.13982582092285156], [6, 10.35294485092163, 0.07919025421142578, 0.2303600311279297], [7, 10.54189682006836, 0.09229493141174316, 0.1537768840789795], [8, 14.092698574066162, 0.10496401786804199, 0.26669836044311523], [9, 15.071165323257446, 0.11787176132202148, 0.4560399055480957], [10, 16.107519149780273, 0.13069558143615723, 0.35843777656555176], [11, 18.485352039337158, 0.14319157600402832, 0.3122384548187256], [12, 20.82084321975708, 0.15565156936645508, None], [13, 23.550981998443604, 0.16817712783813477, None], [14, 25.585909605026245, 0.1744678020477295, None], [15, 28.29284644126892, 0.1811506748199463, None], [16, 31.550673246383667, 0.18719267845153809, None], [17, 33.61722493171692, 0.19437241554260254, None], [18, 37.47920560836792, 0.20035815238952637, None], [19, 39.84412240982056, 0.20590424537658691, None]]\n"
     ]
    }
   ],
   "source": [
    "import pandas as pd\n",
    "df = pd.read_csv(\"/usr/people/kevinshu/Downloads/CommViolPredUnnormalizedData.txt\", delimiter=\",\")\n",
    "# Only take interesting columns\n",
    "df = df.iloc[:,5:-17].replace(\"?\", None).dropna(axis=1)\n",
    "df = (df - df.mean())/df.std()\n",
    "A = df.to_numpy()\n",
    "b = A[:,-1]\n",
    "A = A[:,:-1]\n",
    "\n",
    "k_min = 3\n",
    "k_max = 20\n",
    "# hyp_scores, hyp_timings = hyp_test(A, b, k_min, k_max)\n",
    "# omp_scores, omp_timings = omp_test(A, b, k_min, k_max)\n",
    "lasso_scores, lasso_timings = lasso_test(A, b, 9e-02, [1.1 ** (t-150) for t in range(300)], k_min, k_max)\n",
    "plot_scores(hyp_scores, omp_scores, lasso_scores, k_min, k_max)\n",
    "print([[k,hyp_timings[k],omp_timings[k],lasso_timings[k] if k in lasso_timings else None] for k in range(k_min, k_max)])"
   ]
  },
  {
   "cell_type": "code",
   "execution_count": null,
   "id": "earlier-lecture",
   "metadata": {},
   "outputs": [],
   "source": [
    "delta_scores, delta_timings = lasso_test(A, b, 9e-02, [1.1 ** (-400)], k_min, k_max)\n",
    "print(delta_scores)"
   ]
  },
  {
   "cell_type": "code",
   "execution_count": 342,
   "id": "diverse-watson",
   "metadata": {},
   "outputs": [
    {
     "name": "stdout",
     "output_type": "stream",
     "text": [
      "{3: None, 4: None, 5: None, 6: None, 7: None, 8: None, 9: None, 10: None, 11: 61.83619451649065, 12: None, 13: None, 14: None, 15: None, 16: None, 17: None, 18: None, 19: None}\n"
     ]
    }
   ],
   "source": [
    "print(delta_scores)"
   ]
  },
  {
   "cell_type": "markdown",
   "id": "db283108",
   "metadata": {},
   "source": [
    "# Sklearn Diabetes Data"
   ]
  },
  {
   "cell_type": "code",
   "execution_count": 322,
   "id": "a87b3843",
   "metadata": {
    "scrolled": true
   },
   "outputs": [
    {
     "data": {
      "image/png": "[encoded data removed]",
      "text/plain": [
       "<Figure size 432x288 with 1 Axes>"
      ]
     },
     "metadata": {
      "needs_background": "light"
     },
     "output_type": "display_data"
    },
    {
     "name": "stdout",
     "output_type": "stream",
     "text": [
      "[[3, 0.05415797233581543, 0.002427816390991211, 0.0010402202606201172], [4, 0.055031776428222656, 0.0031044483184814453, 0.0012354850769042969], [5, 0.06625819206237793, 0.003772735595703125, 0.0012674331665039062], [6, 0.0764305591583252, 0.004453897476196289, 0.0031664371490478516], [7, 0.08185386657714844, 0.005078554153442383, None], [8, 0.09123706817626953, 0.005662441253662109, None]]\n"
     ]
    }
   ],
   "source": [
    "from sklearn.datasets import load_diabetes\n",
    "diabetes = load_diabetes()\n",
    "A = diabetes[\"data\"]\n",
    "for col in range(len(A[0])):\n",
    "    A[:, col] -= np.mean(A[:,col])\n",
    "    A[:, col] /= np.std(A[:,col])\n",
    "b = diabetes[\"target\"]\n",
    "b -= np.mean(b)\n",
    "b /= np.std(b)\n",
    "\n",
    "k_min = 3\n",
    "k_max = 9\n",
    "hyp_scores, hyp_timings = hyp_test(A, b, k_min, k_max)\n",
    "omp_scores, omp_timings = omp_test(A, b, k_min, k_max)\n",
    "lasso_scores, lasso_timings = lasso_test(A, b, 9e-02, [1.1 ** (t-65) for t in range(100)], k_min, k_max)\n",
    "plot_scores(hyp_scores, omp_scores, lasso_scores, k_min, k_max)\n",
    "print([[k,hyp_timings[k],omp_timings[k],lasso_timings[k] if k in lasso_timings else None] for k in range(k_min, k_max)])"
   ]
  },
  {
   "cell_type": "markdown",
   "id": "biological-rings",
   "metadata": {},
   "source": [
    "# Wine Dataset"
   ]
  },
  {
   "cell_type": "code",
   "execution_count": 307,
   "id": "efficient-prayer",
   "metadata": {},
   "outputs": [
    {
     "data": {
      "image/png": "[encoded data removed]",
      "text/plain": [
       "<Figure size 432x288 with 1 Axes>"
      ]
     },
     "metadata": {
      "needs_background": "light"
     },
     "output_type": "display_data"
    },
    {
     "name": "stdout",
     "output_type": "stream",
     "text": [
      "[[2, 0.04844069480895996, 0.001903533935546875, 0.0010123252868652344], [3, 0.10158014297485352, 0.002714395523071289, 0.0018191337585449219], [4, 0.08360171318054199, 0.0035867691040039062, 0.0010781288146972656], [5, 0.10389208793640137, 0.004836320877075195, 0.002889871597290039], [6, 0.12566351890563965, 0.005269527435302734, 0.0011451244354248047], [7, 0.14387178421020508, 0.005921602249145508, 0.0016477108001708984], [8, 0.18005943298339844, 0.006970643997192383, None], [9, 0.31783604621887207, 0.007409811019897461, None], [10, 0.23377227783203125, 0.008306741714477539, None], [11, 0.30708885192871094, 0.008676528930664062, None]]\n"
     ]
    }
   ],
   "source": [
    "from sklearn.datasets import load_wine\n",
    "wine = load_wine()\n",
    "A = wine[\"data\"].astype(float)\n",
    "b = wine[\"target\"].astype(float)\n",
    "for col in range(len(A[0])):\n",
    "    A[:, col] -= np.mean(A[:,col])\n",
    "    A[:, col] /= np.std(A[:,col])\n",
    "b -= np.mean(b)\n",
    "b /= np.std(b)\n",
    "\n",
    "k_min = 2\n",
    "k_max = 12\n",
    "hyp_scores, hyp_timings = hyp_test(A, b, k_min, k_max)\n",
    "omp_scores, omp_timings = omp_test(A, b, k_min, k_max)\n",
    "lasso_scores, lasso_timings = lasso_test(A, b, 9e-02, [1.05 ** (t-400) for t in range(500)], k_min, k_max)\n",
    "plot_scores(hyp_scores, omp_scores, lasso_scores, k_min, k_max)\n",
    "print([[k,hyp_timings[k],omp_timings[k],lasso_timings[k] if k in lasso_timings else None] for k in range(k_min, k_max)])"
   ]
  },
  {
   "cell_type": "markdown",
   "id": "acquired-conviction",
   "metadata": {},
   "source": [
    "# Regression with random matrices"
   ]
  },
  {
   "cell_type": "code",
   "execution_count": 195,
   "id": "anticipated-interview",
   "metadata": {},
   "outputs": [],
   "source": [
    "from sklearn import linear_model\n",
    "clf = linear_model.Lasso(alpha=0.02)\n",
    "import random\n",
    "def test(n,m,k):\n",
    "    T = random.sample(list(range(n)), k)\n",
    "    T.sort()\n",
    "    print(\"T: \", T)\n",
    "    A = np.random.normal(loc = 0, scale = 1, size = (m,n))\n",
    "    b = sum(A[:,i] for i in T)\n",
    "    S1, scores1 = find_subset(A, b, k)\n",
    "    print(\"characteristic: \", S1)\n",
    "    S1.sort()\n",
    "    s1 = all(s == t for t, s in zip(T, S1))\n",
    "    lasso = clf.fit(A, b).coef_\n",
    "    S2 = [a[1] for a in sorted([(-abs(x),i) for i,x in enumerate(lasso)])[:k]]\n",
    "    S2.sort()\n",
    "    s2 = all(s == t for t, s in zip(T, S2))\n",
    "    S3, scores3 = omp(A,b,k)\n",
    "    print(\"omp: \", S3)\n",
    "    S3.sort()\n",
    "    s3 = all(s == t for t, s in zip(T, S3))\n",
    "    norm_b = np.linalg.norm(b)\n",
    "    print([(norm_b**2 - x1, x3) for x1, x3 in zip(scores1, scores3)])\n",
    "    return (s1,s2,s3, all(norm_b**2 - x1 >= x3 for x1, x3 in zip(scores1, scores3)))"
   ]
  },
  {
   "cell_type": "code",
   "execution_count": 196,
   "id": "explicit-stake",
   "metadata": {},
   "outputs": [
    {
     "name": "stdout",
     "output_type": "stream",
     "text": [
      "T:  [6, 59, 81, 90, 93, 98]\n",
      "characteristic:  [98, 90, 81, 59, 93, 6]\n",
      "omp:  [98, 90, 81, 59, 93, 6]\n",
      "[(78.5567476546986, 96.15139799916021), (42.19170330247985, 51.0749711484665), (26.298345067500534, 30.109910306477303), (16.75938889672969, 17.95774474859308), (10.84151182312371, 11.349514483140174), (6.110667527536862e-12, 5.3260148164570724e-30)]\n",
      "T:  [22, 28, 29, 35, 69, 84]\n",
      "characteristic:  [84, 29, 28, 69, 35, 22]\n",
      "omp:  [84, 29, 28, 69, 35, 22]\n",
      "[(86.64077023449, 106.87510435196278), (61.19140295013342, 72.43742640020236), (34.97751963082112, 39.906581500965146), (25.25554681030829, 27.445135404494597), (13.982029027319584, 14.703309871171538), (-9.379164112033322e-13, 7.694983879691824e-30)]\n",
      "T:  [4, 6, 8, 11, 31, 87]\n",
      "characteristic:  [4, 8, 31, 6, 87, 11]\n",
      "omp:  [4, 8, 31, 6, 87, 11]\n",
      "[(84.84673991597026, 105.07578723960935), (61.03025655436997, 72.58713101876899), (46.96144568929046, 53.54635997550257), (32.42299197713035, 35.30114389970806), (16.281167185737388, 17.02912646446662), (3.069544618483633e-12, 8.408658285443281e-30)]\n",
      "T:  [9, 38, 71, 80, 86, 87]\n",
      "characteristic:  [86, 13, 87, 9, 38, 71]\n",
      "omp:  [86, 13, 87, 9, 38, 71]\n",
      "[(80.01668120822414, 100.17571702619244), (58.56270867141389, 70.43546308388706), (41.421769512029556, 46.82784136186838), (33.0525642311996, 36.006591531838765), (20.724285265886493, 21.653642570923626), (14.038789165801745, 14.038789165806957)]\n",
      "T:  [13, 31, 34, 46, 75, 98]\n",
      "characteristic:  [98, 31, 75, 46, 34, 13]\n",
      "omp:  [98, 31, 75, 46, 34, 13]\n",
      "[(75.94145608815182, 96.89189668106796), (58.58931832268307, 71.69236452842893), (43.76431407052391, 51.484412515600255), (23.933364265938053, 26.27056056431086), (18.149587745422906, 19.082916160931145), (-2.3305801732931286e-12, 6.45051716273617e-30)]\n",
      "T:  [7, 8, 33, 37, 63, 95]\n",
      "characteristic:  [95, 7, 8, 6, 73, 75]\n",
      "omp:  [95, 7, 8, 24, 51, 33]\n",
      "[(69.24826329047822, 87.53473836251005), (44.884438006721524, 54.293238205037596), (29.72637916428313, 34.34396135093537), (22.029377463113065, 25.037550695679872), (17.840298252648893, 19.15600767325335), (14.081228238152661, 16.330731414731442)]\n",
      "T:  [9, 33, 77, 78, 84, 86]\n",
      "characteristic:  [84, 77, 86, 78, 9, 33]\n",
      "omp:  [84, 77, 86, 78, 9, 33]\n",
      "[(84.51948481372287, 105.98403983356431), (63.832782768514804, 74.88700740570319), (47.869569227125794, 54.36728495491766), (37.364300896731464, 41.21868556690957), (21.742688753170313, 22.811391586375205), (-4.519051799434237e-12, 2.1425889381138473e-29)]\n",
      "T:  [10, 25, 29, 45, 51, 55]\n",
      "characteristic:  [29, 45, 55, 51, 25, 10]\n",
      "omp:  [29, 55, 45, 51, 25, 10]\n",
      "[(72.94103921252328, 88.54405935704557), (53.13902705150673, 62.97220684624398), (40.117762982076044, 45.868851467426644), (28.412605070115518, 31.08355581627274), (15.834529907038956, 16.562311232991412), (-2.7995383788947947e-12, 8.681321817319906e-30)]\n",
      "T:  [32, 53, 64, 66, 70, 75]\n",
      "characteristic:  [66, 53, 70, 32, 75, 64]\n",
      "omp:  [66, 53, 70, 32, 75, 64]\n",
      "[(105.285994168171, 132.62041966221358), (74.38931695554052, 89.2641740009893), (53.682291674200314, 62.961377355673584), (32.886429801536934, 36.68214038841078), (20.639766756823832, 22.034127229235), (-2.6943780540023e-11, 1.4993247255698642e-29)]\n",
      "T:  [2, 3, 36, 48, 88, 97]\n",
      "characteristic:  [97, 2, 36, 3, 48, 88]\n",
      "omp:  [97, 2, 36, 3, 48, 88]\n",
      "[(111.5990734402219, 138.46488167943875), (63.53090669057548, 76.36628715542287), (38.380741381345246, 45.336645334030756), (22.84070883412204, 25.659474603804203), (11.085499177140548, 11.698672331676056), (4.632738637155853e-12, 1.569557071184037e-29)]\n",
      "[8, 9, 8]\n",
      "T:  [0, 60, 65, 77, 82, 85, 98]\n",
      "characteristic:  [0, 77, 2, 24, 65, 82, 60]\n",
      "omp:  [0, 77, 79, 82, 65, 76, 98]\n",
      "[(57.61476681203316, 78.1441652821009), (46.23225849761501, 59.7761554264906), (38.20172703056143, 45.38035309872286), (30.260676840358286, 37.91184125151618), (24.496666357847687, 20.57909888405835), (15.283903010023309, 14.74123519303778), (11.992441621102515, 11.71185195528435)]\n",
      "T:  [5, 8, 13, 27, 32, 35, 72]\n",
      "characteristic:  [5, 13, 35, 8, 32, 27, 72]\n",
      "omp:  [5, 13, 35, 8, 32, 27, 72]\n",
      "[(89.60047039858398, 131.10972204181107), (57.287851098607405, 75.3213045101277), (35.800682321945544, 45.62909456041418), (24.58670075434037, 28.73731040547329), (17.291318374771606, 19.37974640661307), (10.096144601921026, 10.693528714795056), (-5.115907697472721e-12, 8.241632011016298e-30)]\n",
      "T:  [3, 13, 27, 50, 71, 84, 97]\n",
      "characteristic:  [71, 50, 41, 84, 43, 13, 3]\n",
      "omp:  [71, 50, 41, 84, 13, 3, 27]\n",
      "[(158.09427424124246, 213.29821809258132), (101.16431694743454, 129.01952264707447), (70.3473388705849, 83.48656327373311), (49.99158659953622, 56.58217737722981), (38.01920729013415, 42.50832547388787), (27.78034040527234, 22.499443786058404), (18.47092790134826, 13.539788994858373)]\n",
      "T:  [23, 32, 38, 49, 60, 83, 91]\n",
      "characteristic:  [23, 38, 49, 60, 83, 32, 91]\n",
      "omp:  [23, 38, 49, 60, 83, 32, 91]\n",
      "[(124.90572214994319, 179.6531499485694), (81.75742219636928, 109.18016173320136), (54.39859242397671, 67.07903585215475), (39.34791475247454, 45.99946776888552), (24.946225061449866, 27.933866402295997), (14.93802344705091, 15.931577938432879), (8.0831341620069e-11, 1.9122365824826426e-29)]\n",
      "T:  [8, 9, 10, 26, 67, 69, 90]\n",
      "characteristic:  [10, 69, 26, 9, 90, 8, 67]\n",
      "omp:  [10, 69, 26, 9, 90, 8, 67]\n",
      "[(104.87275176976246, 139.23019757227158), (76.12654629937936, 95.96922990059217), (58.19212715910106, 69.05180764639168), (45.86608334686264, 52.495535645900574), (31.86423943690474, 35.30334244315838), (17.473437392831727, 18.53970474047944), (6.849631972727366e-12, 1.696898355400706e-29)]\n",
      "T:  [4, 9, 11, 33, 42, 88, 90]\n",
      "characteristic:  [4, 90, 81, 80, 99, 51, 56]\n",
      "omp:  [4, 90, 64, 48, 36, 9, 77]\n",
      "[(60.561318015050006, 78.2569779115652), (43.078596478046975, 54.38170182916637), (28.558912964982355, 42.00640182443667), (21.132390354099385, 31.54205227450599), (16.07847279320299, 25.507676220755865), (12.188563036853878, 18.916244945733354), (9.470140904450972, 15.384686529667485)]\n",
      "T:  [36, 50, 52, 61, 70, 75, 80]\n",
      "characteristic:  [80, 75, 61, 36, 93, 74, 82]\n",
      "omp:  [52, 75, 80, 61, 36, 50, 70]\n",
      "[(132.91062814849218, 174.0684931050178), (69.83203348512404, 125.86842813113519), (47.35544161524169, 70.93235755386061), (30.0138318849271, 50.47989442924634), (19.04810717532291, 30.90257741783131), (14.933444908750687, 17.472482734205496), (11.016104186002394, 1.5029632285319873e-29)]\n",
      "T:  [34, 35, 44, 46, 63, 71, 99]\n",
      "characteristic:  [46, 71, 44, 63, 34, 35, 99]\n",
      "omp:  [46, 71, 44, 63, 34, 35, 99]\n",
      "[(108.88998048567271, 144.10466346191473), (77.1099169950487, 96.24866322592949), (56.7967291866903, 67.09465520125674), (41.97086758959182, 48.18541812596611), (30.655769148589485, 34.32973027006407), (16.295417146459073, 17.29818022680293), (-1.4694023775518872e-11, 1.558948808309109e-29)]\n",
      "T:  [12, 38, 42, 48, 52, 55, 72]\n",
      "characteristic:  [55, 52, 12, 72, 38, 48, 42]\n",
      "omp:  [55, 52, 12, 72, 38, 48, 42]\n",
      "[(114.80842016529981, 153.94957792070315), (89.4180320643612, 115.54448791727572), (67.30396566980508, 84.12131685390008), (44.965417175796915, 52.58242954030352), (31.25739075097718, 34.34684096711044), (20.866107867547157, 22.151169905079016), (1.693933882052079e-11, 2.0533157657338683e-29)]\n",
      "T:  [13, 14, 35, 82, 88, 90, 96]\n",
      "characteristic:  [13, 88, 60, 96, 17, 35, 78]\n",
      "omp:  [13, 88, 96, 35, 90, 82, 14]\n",
      "[(92.91716530014622, 136.27162373728248), (71.49161725599987, 99.76900519880401), (46.40880583609308, 59.427536966151266), (34.966779210640766, 43.49522187888641), (24.24470676083061, 30.69337399016664), (17.92530381515934, 14.430690183431429), (12.115454588886905, 1.7316662057217563e-29)]\n",
      "[5, 7, 7]\n",
      "T:  [10, 18, 23, 45, 61, 73, 75, 86]\n",
      "characteristic:  [73, 8, 57, 99, 13, 21, 61, 38]\n",
      "omp:  [73, 21, 13, 18, 45, 75, 35, 52]\n",
      "[(104.62462036886848, 146.47123185464142), (84.87310151243562, 112.89389504904476), (67.39275180539525, 87.49596218500153), (51.38756228425419, 60.50802445561218), (43.61130901143693, 45.525928131837304), (37.05320273865078, 32.62459601059459), (31.221636860956437, 24.33503614596669), (22.486295443972608, 19.510083887140837)]\n",
      "T:  [8, 10, 12, 23, 45, 77, 80, 82]\n",
      "characteristic:  [10, 23, 37, 14, 49, 12, 45, 80]\n",
      "omp:  [10, 23, 37, 14, 78, 80, 8, 12]\n",
      "[(173.9638382077804, 250.03651806200622), (96.53344544078874, 129.22128300462091), (65.51311835506925, 80.60988697174753), (52.964200837684416, 62.24578351590875), (42.3819535782182, 49.46237666272509), (35.26826947360041, 38.37874135603811), (30.57543554924183, 32.29380519159163), (21.943237258605052, 24.755727979120973)]\n",
      "T:  [29, 31, 34, 52, 59, 66, 83, 85]\n"
     ]
    },
    {
     "name": "stdout",
     "output_type": "stream",
     "text": [
      "characteristic:  [85, 52, 62, 31, 59, 34, 0, 45]\n",
      "omp:  [85, 52, 62, 31, 59, 34, 77, 53]\n",
      "[(68.3843563017091, 89.60040160974084), (58.46961715454255, 74.84641762131567), (47.41196380818835, 57.59020340942249), (36.08831609527488, 41.94479386510055), (27.26294317791954, 30.27585308351808), (21.59419131750559, 23.314039448777756), (17.39811047750473, 18.268816949644588), (14.953435348562152, 14.88675850505076)]\n",
      "T:  [26, 39, 45, 46, 47, 63, 65, 85]\n"
     ]
    },
    {
     "ename": "KeyboardInterrupt",
     "evalue": "",
     "output_type": "error",
     "traceback": [
      "\u001b[1;31m---------------------------------------------------------------------------\u001b[0m",
      "\u001b[1;31mKeyboardInterrupt\u001b[0m                         Traceback (most recent call last)",
      "Input \u001b[1;32mIn [196]\u001b[0m, in \u001b[0;36m<cell line: 5>\u001b[1;34m()\u001b[0m\n\u001b[0;32m      6\u001b[0m counts \u001b[38;5;241m=\u001b[39m [\u001b[38;5;241m0\u001b[39m,\u001b[38;5;241m0\u001b[39m,\u001b[38;5;241m0\u001b[39m]\n\u001b[0;32m      7\u001b[0m \u001b[38;5;28;01mfor\u001b[39;00m i \u001b[38;5;129;01min\u001b[39;00m \u001b[38;5;28mrange\u001b[39m(iters):\n\u001b[1;32m----> 8\u001b[0m     \u001b[38;5;28;01mfor\u001b[39;00m i, result \u001b[38;5;129;01min\u001b[39;00m \u001b[38;5;28menumerate\u001b[39m(\u001b[43mtest\u001b[49m\u001b[43m(\u001b[49m\u001b[43mn\u001b[49m\u001b[43m,\u001b[49m\u001b[43mm\u001b[49m\u001b[43m,\u001b[49m\u001b[43mk\u001b[49m\u001b[43m)\u001b[49m):\n\u001b[0;32m      9\u001b[0m         \u001b[38;5;28;01mif\u001b[39;00m result:\n\u001b[0;32m     10\u001b[0m             counts[i] \u001b[38;5;241m+\u001b[39m\u001b[38;5;241m=\u001b[39m \u001b[38;5;241m1\u001b[39m\n",
      "Input \u001b[1;32mIn [195]\u001b[0m, in \u001b[0;36mtest\u001b[1;34m(n, m, k)\u001b[0m\n\u001b[0;32m      8\u001b[0m A \u001b[38;5;241m=\u001b[39m np\u001b[38;5;241m.\u001b[39mrandom\u001b[38;5;241m.\u001b[39mnormal(loc \u001b[38;5;241m=\u001b[39m \u001b[38;5;241m0\u001b[39m, scale \u001b[38;5;241m=\u001b[39m \u001b[38;5;241m1\u001b[39m, size \u001b[38;5;241m=\u001b[39m (m,n))\n\u001b[0;32m      9\u001b[0m b \u001b[38;5;241m=\u001b[39m \u001b[38;5;28msum\u001b[39m(A[:,i] \u001b[38;5;28;01mfor\u001b[39;00m i \u001b[38;5;129;01min\u001b[39;00m T)\n\u001b[1;32m---> 10\u001b[0m S1, scores1 \u001b[38;5;241m=\u001b[39m \u001b[43mfind_subset\u001b[49m\u001b[43m(\u001b[49m\u001b[43mA\u001b[49m\u001b[43m,\u001b[49m\u001b[43m \u001b[49m\u001b[43mb\u001b[49m\u001b[43m,\u001b[49m\u001b[43m \u001b[49m\u001b[43mk\u001b[49m\u001b[43m)\u001b[49m\n\u001b[0;32m     11\u001b[0m \u001b[38;5;28mprint\u001b[39m(\u001b[38;5;124m\"\u001b[39m\u001b[38;5;124mcharacteristic: \u001b[39m\u001b[38;5;124m\"\u001b[39m, S1)\n\u001b[0;32m     12\u001b[0m S1\u001b[38;5;241m.\u001b[39msort()\n",
      "Input \u001b[1;32mIn [190]\u001b[0m, in \u001b[0;36mfind_subset\u001b[1;34m(A, b, k)\u001b[0m\n\u001b[0;32m     86\u001b[0m swap(X, t, j)\n\u001b[0;32m     87\u001b[0m swap(Z, t, j)\n\u001b[1;32m---> 89\u001b[0m pX \u001b[38;5;241m=\u001b[39m \u001b[43mconditional_char\u001b[49m\u001b[43m(\u001b[49m\u001b[43mX\u001b[49m\u001b[43m,\u001b[49m\u001b[43m \u001b[49m\u001b[43mt\u001b[49m\u001b[38;5;241;43m+\u001b[39;49m\u001b[38;5;241;43m1\u001b[39;49m\u001b[43m,\u001b[49m\u001b[43m \u001b[49m\u001b[43mk\u001b[49m\u001b[43m)\u001b[49m\n\u001b[0;32m     90\u001b[0m pZ \u001b[38;5;241m=\u001b[39m conditional_char(Z, t\u001b[38;5;241m+\u001b[39m\u001b[38;5;241m1\u001b[39m, k)\n\u001b[0;32m     91\u001b[0m heur \u001b[38;5;241m=\u001b[39m pZ \u001b[38;5;241m/\u001b[39m pX\n",
      "Input \u001b[1;32mIn [190]\u001b[0m, in \u001b[0;36mconditional_char\u001b[1;34m(X, t, k)\u001b[0m\n\u001b[0;32m     60\u001b[0m \u001b[38;5;28;01mdef\u001b[39;00m \u001b[38;5;21mconditional_char\u001b[39m(X, t, k):\n\u001b[1;32m---> 61\u001b[0m     schur \u001b[38;5;241m=\u001b[39m X[t:, t:] \u001b[38;5;241m-\u001b[39m \u001b[43mX\u001b[49m\u001b[43m[\u001b[49m\u001b[43mt\u001b[49m\u001b[43m:\u001b[49m\u001b[43m,\u001b[49m\u001b[43m \u001b[49m\u001b[43m:\u001b[49m\u001b[43mt\u001b[49m\u001b[43m]\u001b[49m\u001b[43m \u001b[49m\u001b[38;5;241;43m@\u001b[39;49m\u001b[43m \u001b[49m\u001b[43mnp\u001b[49m\u001b[38;5;241;43m.\u001b[39;49m\u001b[43mlinalg\u001b[49m\u001b[38;5;241;43m.\u001b[39;49m\u001b[43minv\u001b[49m\u001b[43m(\u001b[49m\u001b[43mX\u001b[49m\u001b[43m[\u001b[49m\u001b[43m:\u001b[49m\u001b[43mt\u001b[49m\u001b[43m,\u001b[49m\u001b[43m \u001b[49m\u001b[43m:\u001b[49m\u001b[43mt\u001b[49m\u001b[43m]\u001b[49m\u001b[43m)\u001b[49m\u001b[43m \u001b[49m\u001b[38;5;241;43m@\u001b[39;49m\u001b[43m \u001b[49m\u001b[43mX\u001b[49m\u001b[43m[\u001b[49m\u001b[43m:\u001b[49m\u001b[43mt\u001b[49m\u001b[43m,\u001b[49m\u001b[43m \u001b[49m\u001b[43mt\u001b[49m\u001b[43m:\u001b[49m\u001b[43m]\u001b[49m\n\u001b[0;32m     62\u001b[0m     \u001b[38;5;28;01mreturn\u001b[39;00m np\u001b[38;5;241m.\u001b[39mlinalg\u001b[38;5;241m.\u001b[39mdet(X[:t, :t]) \u001b[38;5;241m*\u001b[39m char_coeff(schur, k\u001b[38;5;241m-\u001b[39mt)\n",
      "\u001b[1;31mKeyboardInterrupt\u001b[0m: "
     ]
    }
   ],
   "source": [
    "n = 100\n",
    "m = 30\n",
    "iters = 10\n",
    "count_dict = []\n",
    "for k in range(6,25):\n",
    "    counts = [0,0,0]\n",
    "    for i in range(iters):\n",
    "        for i, result in enumerate(test(n,m,k)):\n",
    "            if result:\n",
    "                counts[i] += 1\n",
    "    print(counts)\n",
    "    count_dict.append(counts)\n",
    "print(count_dict)"
   ]
  },
  {
   "cell_type": "code",
   "execution_count": 148,
   "id": "relevant-poetry",
   "metadata": {},
   "outputs": [
    {
     "name": "stdout",
     "output_type": "stream",
     "text": [
      "[(1.0377406341161688, 1.7883167077026783), (-1.0658141036401503e-14, 3.158525108795067e-32)]\n",
      "[(0.24229604056866982, 2.4289620176113815), (0.047786817478977284, 0.13481097900135497)]\n",
      "[(0.31727381390459364, 0.41440234987234187), (-3.2507330161024584e-13, 7.395570986446985e-32)]\n",
      "[(1.339812540330998, 2.440332914421233), (0.24086240215732246, 0.4553118440461411)]\n",
      "[(0.28340747903018304, 0.5015380398748129), (-2.842170943040401e-14, 2.5422275265911513e-32)]\n",
      "[(0.664353795170614, 1.0460361559754618), (-2.6645352591003757e-15, 4.00593428432545e-32)]\n",
      "[(0.5922546708244374, 1.0826651607376028), (-5.329070518200751e-15, 2.6500796034768365e-31)]\n",
      "[(4.2263431721187885, 6.704083527907993), (-7.105427357601002e-15, 9.86076131526265e-32)]\n",
      "[(0.904208533410241, 1.9984670163133653), (7.105427357601002e-15, 4.005934284325451e-31)]\n",
      "[(3.0584193313259167, 4.756941524308665), (0.16625928201482232, 0.7726115466844681)]\n",
      "[(0.9510678296333079, 1.4972922969486562), (0.0, 9.88002061470652e-32)]\n",
      "[(0.07434752997253824, 0.17107348973769193), (-2.6645352591003757e-15, 1.4251881588465548e-31)]\n",
      "[(0.8329110494030783, 1.4278081291314388), (0.21616782460976314, 2.526820087036054e-31)]\n",
      "[[ 0.03 -0.32  0.3  -0.3  -0.85  2.19  0.48  0.55  0.8   0.38]\n",
      " [-1.12 -0.57 -0.04  0.17 -0.84 -2.53 -0.25  0.56 -0.74  0.54]\n",
      " [-0.08 -1.47  0.83  0.48  0.26  0.08 -1.63  0.64  0.09  0.2 ]\n",
      " [ 0.66 -0.73 -1.47 -0.86 -0.73  0.93  0.9  -0.85 -0.17  0.23]]\n",
      "[ 0.5  -1.37 -1.71  1.56]\n",
      "[0, 6]\n",
      "[3, 9]\n",
      "[6, 0]\n"
     ]
    }
   ],
   "source": [
    "n = 10\n",
    "m = 4\n",
    "k = 2\n",
    "import random\n",
    "for _ in range(1000):\n",
    "    T = random.sample(list(range(n)), k)\n",
    "    T.sort()\n",
    "    A = np.random.normal(loc = 0, scale = 1, size = (m,n))\n",
    "    b = sum(A[:,i] for i in T)\n",
    "    S1, scores1 = find_subset(A, b, k)\n",
    "    S1.sort()\n",
    "    s1 = all(s == t for t, s in zip(T, S1))\n",
    "    \n",
    "    S3, scores3 = omp(A,b,k)\n",
    "    S3.sort()\n",
    "    s3 = all(s == t for t, s in zip(T, S3))\n",
    "    norm_b = np.linalg.norm(b)\n",
    "    \n",
    "    norm_b = np.linalg.norm(b)\n",
    "    print([(norm_b**2 - x1, x3) for x1, x3 in zip(scores1, scores3)])\n",
    "    \n",
    "    if s3 and not s1:\n",
    "        print(A)\n",
    "        print(b)\n",
    "        print(T)\n",
    "        print(find_subset(A, b, k)[0])\n",
    "        print(omp(A,b,k)[0])\n",
    "        break"
   ]
  },
  {
   "cell_type": "code",
   "execution_count": 149,
   "id": "inappropriate-encyclopedia",
   "metadata": {},
   "outputs": [
    {
     "name": "stdout",
     "output_type": "stream",
     "text": [
      "[[ 0.03 -0.32  0.3  -0.3  -0.85  2.19  0.48  0.55  0.8   0.38]\n",
      " [-1.12 -0.57 -0.04  0.17 -0.84 -2.53 -0.25  0.56 -0.74  0.54]\n",
      " [-0.08 -1.47  0.83  0.48  0.26  0.08 -1.63  0.64  0.09  0.2 ]\n",
      " [ 0.66 -0.73 -1.47 -0.86 -0.73  0.93  0.9  -0.85 -0.17  0.23]]\n",
      "[0, 6]\n",
      "[ 0.5  -1.37 -1.71  1.56]\n",
      "[[ 0.02 -0.18  0.17 -0.29 -0.6   0.63  0.25  0.42  0.72  0.52]\n",
      " [-0.86 -0.32 -0.02  0.16 -0.59 -0.73 -0.13  0.43 -0.67  0.75]\n",
      " [-0.06 -0.83  0.49  0.46  0.18  0.02 -0.84  0.48  0.08  0.27]\n",
      " [ 0.51 -0.41 -0.86 -0.82 -0.51  0.27  0.46 -0.64 -0.16  0.32]]\n",
      "([3, 9], [6.656037691903282, 7.272780916696597])\n"
     ]
    }
   ],
   "source": [
    "np.set_printoptions(precision=2)\n",
    "print(A)\n",
    "print(T)\n",
    "print(b)\n",
    "B = A.copy()\n",
    "for i in range(B.shape[1]):\n",
    "    B[:, i] /= np.linalg.norm(B[:, i])\n",
    "print(B)\n",
    "print(find_subset(B, b, 2))"
   ]
  },
  {
   "cell_type": "code",
   "execution_count": 165,
   "id": "centered-saturn",
   "metadata": {},
   "outputs": [
    {
     "name": "stdout",
     "output_type": "stream",
     "text": [
      "([6, 0], [0.1906553480939401, 1.0977800683007244e-32])\n"
     ]
    }
   ],
   "source": [
    "print(omp(B, b, 2))"
   ]
  },
  {
   "cell_type": "code",
   "execution_count": 156,
   "id": "processed-texture",
   "metadata": {},
   "outputs": [
    {
     "name": "stdout",
     "output_type": "stream",
     "text": [
      "T  [0, 1]\n",
      "0.9869531513931562\n",
      "T  [0, 2]\n",
      "0.80569147504437\n",
      "T  [0, 3]\n",
      "0.6545237267574593\n",
      "T  [0, 4]\n",
      "0.9512010688050985\n",
      "T  [0, 5]\n",
      "0.4015654674204535\n",
      "T  [0, 6]\n",
      "0.8383549957583887\n",
      "T  [0, 7]\n",
      "0.4928648660746797\n",
      "T  [0, 8]\n",
      "0.742713691867894\n",
      "T  [0, 9]\n",
      "0.7635222447573202\n",
      "T  [1, 2]\n",
      "0.9938552644502497\n",
      "T  [1, 3]\n",
      "0.9980747923025646\n",
      "T  [1, 4]\n",
      "0.8734190003087954\n",
      "T  [1, 5]\n",
      "0.9999077376044934\n",
      "T  [1, 6]\n",
      "0.7424188124532818\n",
      "T  [1, 7]\n",
      "0.8792268955989423\n",
      "T  [1, 8]\n",
      "0.9938253203486659\n",
      "T  [1, 9]\n",
      "0.5223869602772246\n",
      "T  [2, 3]\n",
      "0.2321382144817874\n",
      "T  [2, 4]\n",
      "0.8070720299961356\n",
      "T  [2, 5]\n",
      "0.9914545790702185\n",
      "T  [2, 6]\n",
      "0.42049528777323164\n",
      "T  [2, 7]\n",
      "0.27972103536305437\n",
      "T  [2, 8]\n",
      "0.9021185377899353\n",
      "T  [2, 9]\n",
      "0.9956379679656466\n",
      "T  [3, 4]\n",
      "0.6545768668909977\n",
      "T  [3, 5]\n",
      "0.7430075239820985\n",
      "T  [3, 6]\n",
      "0.2580157168516969\n",
      "T  [3, 7]\n",
      "0.5095363660206739\n",
      "T  [3, 8]\n",
      "0.9780665693878657\n",
      "T  [3, 9]\n",
      "0.9719513878337964\n",
      "T  [4, 5]\n",
      "0.9934207914404204\n",
      "T  [4, 6]\n",
      "0.7850377783855316\n",
      "T  [4, 7]\n",
      "0.9939908708925076\n",
      "T  [4, 8]\n",
      "0.9965888824078386\n",
      "T  [4, 9]\n",
      "0.2584357002841246\n",
      "T  [5, 6]\n",
      "0.8751265068340267\n",
      "T  [5, 7]\n",
      "0.9564903028571606\n",
      "T  [5, 8]\n",
      "0.1844291124556013\n",
      "T  [5, 9]\n",
      "0.9840113208424804\n",
      "T  [6, 7]\n",
      "0.5691219873578193\n",
      "T  [6, 8]\n",
      "0.9851987323064418\n",
      "T  [6, 9]\n",
      "0.9974109874549829\n",
      "T  [7, 8]\n",
      "0.9758155617523797\n",
      "T  [7, 9]\n",
      "0.7901958867790595\n",
      "T  [8, 9]\n",
      "0.9765092964378067\n"
     ]
    }
   ],
   "source": [
    "X = np.transpose(B) @ B\n",
    "for i in range(10):\n",
    "    for j in range(i+1, 10):\n",
    "        print(\"T \", [i, j])\n",
    "        A = [[X[i,i], X[i,j]],[X[i,j], X[j,j]]]\n",
    "        print(np.linalg.det(A))\n",
    "        A = [[Z[i,i], Z[i,j]],[X[i,j], X[j,j]]]"
   ]
  },
  {
   "cell_type": "code",
   "execution_count": 179,
   "id": "referenced-piano",
   "metadata": {},
   "outputs": [
    {
     "name": "stdout",
     "output_type": "stream",
     "text": [
      "0\n",
      "0.9999999999999996\n",
      "2.854683636313858\n",
      "1\n",
      "0.999994825514956\n",
      "2.5630020695310787\n",
      "2\n",
      "0.9999974496609838\n",
      "2.8259436624628367\n",
      "3\n",
      "0.9999986712071594\n",
      "2.9907139761711306\n",
      "4\n",
      "0.9999989880040638\n",
      "2.497547943582923\n",
      "5\n",
      "0.9999997363333737\n",
      "2.7805889430265482\n",
      "6\n",
      "1.0000018321009967\n",
      "3.1150202380092353\n",
      "7\n",
      "1.000001470413924\n",
      "2.86550964971077\n",
      "8\n",
      "1.0000010863137998\n",
      "2.513131211551526\n",
      "9\n",
      "1.0000006216914992\n",
      "2.524655654270109\n"
     ]
    }
   ],
   "source": [
    "X = np.transpose(B) @ B\n",
    "b /= np.linalg.norm(b)\n",
    "D_tot = np.eye(10)\n",
    "for t in range(10):\n",
    "    for i in range(10):\n",
    "        swap(X, 0, i)\n",
    "        swap(D_tot, 0, i)\n",
    "        D = np.eye(10)\n",
    "        D[0,0] = 1/np.sqrt(conditional_char(X, 1, 2))\n",
    "        X = D @ X @ D\n",
    "        D_tot = D @ D_tot\n",
    "Z = X + D_tot @ np.transpose(B) @ np.outer(b, b) @ B @ D_tot\n",
    "for i in range(10): \n",
    "    print(i)\n",
    "    swap(X, 0, i)\n",
    "    swap(Z, 0, i)\n",
    "    print(conditional_char(X, 1, 2))\n",
    "    print(conditional_char(Z, 1, 2))"
   ]
  },
  {
   "cell_type": "code",
   "execution_count": 73,
   "id": "postal-treatment",
   "metadata": {},
   "outputs": [],
   "source": [
    "A = np.random.normal(loc = 0, scale = 1, size = (25,400))"
   ]
  },
  {
   "cell_type": "code",
   "execution_count": 140,
   "id": "reliable-grain",
   "metadata": {},
   "outputs": [
    {
     "data": {
      "text/plain": [
       "array([[ 0.48, -0.63,  0.54,  0.57,  0.94, -0.06, -0.44,  0.18,  0.21,\n",
       "        -0.23],\n",
       "       [-0.57,  0.65,  0.13,  0.01,  0.05, -0.45,  0.42,  0.02,  0.18,\n",
       "         0.89],\n",
       "       [ 0.57,  0.43, -0.58, -0.73,  0.18, -0.87, -0.77,  0.74, -0.89,\n",
       "         0.13],\n",
       "       [ 0.36, -0.01,  0.59, -0.38,  0.3 , -0.22,  0.2 ,  0.64,  0.37,\n",
       "        -0.36]])"
      ]
     },
     "execution_count": 140,
     "metadata": {},
     "output_type": "execute_result"
    }
   ],
   "source": [
    "B"
   ]
  },
  {
   "cell_type": "code",
   "execution_count": 81,
   "id": "realistic-prison",
   "metadata": {},
   "outputs": [
    {
     "name": "stdout",
     "output_type": "stream",
     "text": [
      "([3, 1, 5], [52.8597368095047, 80.41534373321, 92.79035322897276])\n"
     ]
    }
   ],
   "source": [
    "# An example of sparse regression.\n",
    "print(find_subset(A, A[:,1]+A[:,3]-A[:,5], 3))"
   ]
  },
  {
   "cell_type": "code",
   "execution_count": null,
   "id": "inside-auditor",
   "metadata": {},
   "outputs": [],
   "source": []
  },
  {
   "cell_type": "code",
   "execution_count": 75,
   "id": "dental-emergency",
   "metadata": {},
   "outputs": [
    {
     "name": "stdout",
     "output_type": "stream",
     "text": [
      "[ 0.          0.98631157 -0.          0.98396293 -0.         -0.98040089\n",
      "  0.         -0.         -0.         -0.         -0.          0.\n",
      "  0.         -0.          0.          0.          0.          0.\n",
      " -0.          0.          0.          0.         -0.          0.\n",
      "  0.         -0.         -0.         -0.         -0.          0.\n",
      "  0.          0.          0.          0.         -0.         -0.\n",
      "  0.         -0.         -0.          0.          0.          0.\n",
      "  0.         -0.         -0.         -0.          0.          0.\n",
      " -0.         -0.         -0.          0.          0.          0.\n",
      "  0.          0.         -0.          0.         -0.         -0.\n",
      "  0.         -0.         -0.         -0.         -0.         -0.\n",
      "  0.          0.          0.         -0.         -0.         -0.\n",
      " -0.          0.         -0.          0.         -0.         -0.\n",
      " -0.         -0.          0.          0.         -0.          0.\n",
      "  0.         -0.          0.         -0.          0.         -0.\n",
      " -0.         -0.         -0.         -0.          0.         -0.\n",
      "  0.          0.          0.         -0.         -0.          0.\n",
      " -0.         -0.          0.         -0.         -0.          0.\n",
      "  0.          0.          0.         -0.         -0.          0.\n",
      "  0.          0.          0.          0.          0.          0.\n",
      "  0.         -0.          0.         -0.         -0.          0.\n",
      "  0.         -0.         -0.         -0.         -0.         -0.\n",
      " -0.         -0.          0.          0.         -0.          0.\n",
      "  0.         -0.         -0.          0.          0.          0.\n",
      "  0.         -0.         -0.          0.          0.         -0.\n",
      " -0.         -0.          0.          0.         -0.         -0.\n",
      "  0.          0.          0.         -0.          0.         -0.\n",
      "  0.         -0.          0.          0.          0.          0.\n",
      " -0.          0.         -0.         -0.         -0.          0.\n",
      " -0.         -0.          0.         -0.          0.         -0.\n",
      " -0.          0.         -0.         -0.          0.         -0.\n",
      "  0.         -0.          0.         -0.          0.         -0.\n",
      "  0.         -0.          0.         -0.          0.         -0.\n",
      " -0.         -0.          0.         -0.          0.          0.\n",
      "  0.         -0.         -0.         -0.         -0.          0.\n",
      "  0.         -0.          0.         -0.         -0.          0.\n",
      " -0.         -0.          0.         -0.         -0.          0.\n",
      " -0.         -0.          0.          0.         -0.         -0.\n",
      " -0.          0.          0.         -0.         -0.         -0.\n",
      " -0.         -0.         -0.          0.         -0.          0.\n",
      " -0.          0.         -0.          0.         -0.         -0.\n",
      "  0.         -0.          0.         -0.          0.         -0.\n",
      " -0.         -0.         -0.         -0.          0.         -0.\n",
      " -0.          0.         -0.         -0.         -0.          0.\n",
      " -0.         -0.          0.         -0.          0.         -0.\n",
      " -0.          0.          0.          0.          0.          0.\n",
      "  0.          0.          0.         -0.         -0.          0.\n",
      "  0.         -0.         -0.         -0.         -0.         -0.\n",
      " -0.          0.          0.          0.         -0.          0.\n",
      " -0.          0.          0.          0.         -0.          0.\n",
      " -0.         -0.          0.         -0.         -0.         -0.\n",
      " -0.         -0.          0.          0.         -0.         -0.\n",
      " -0.          0.          0.          0.          0.          0.\n",
      "  0.          0.         -0.          0.          0.          0.\n",
      " -0.         -0.         -0.         -0.          0.          0.\n",
      "  0.          0.          0.          0.          0.         -0.\n",
      " -0.         -0.         -0.         -0.         -0.          0.\n",
      " -0.         -0.          0.          0.         -0.         -0.\n",
      " -0.         -0.          0.          0.          0.          0.\n",
      "  0.         -0.         -0.         -0.          0.          0.\n",
      " -0.         -0.          0.         -0.         -0.          0.\n",
      " -0.          0.         -0.         -0.         -0.          0.\n",
      " -0.         -0.          0.          0.          0.          0.\n",
      " -0.         -0.          0.         -0.         -0.         -0.\n",
      "  0.         -0.          0.          0.          0.          0.\n",
      " -0.          0.         -0.         -0.         -0.          0.\n",
      " -0.         -0.         -0.          0.        ]\n"
     ]
    },
    {
     "data": {
      "text/plain": [
       "[1, 3, 5]"
      ]
     },
     "execution_count": 75,
     "metadata": {},
     "output_type": "execute_result"
    }
   ],
   "source": [
    "from sklearn import linear_model\n",
    "clf = linear_model.Lasso(alpha=0.02)\n",
    "clf.fit(A, A[:,1]+A[:,3]-A[:,5])\n",
    "lasso = (clf.coef_)\n",
    "print(lasso)\n",
    "[a[1] for a in sorted([(-abs(x),i) for i,x in enumerate(lasso)])[:3]]"
   ]
  },
  {
   "cell_type": "code",
   "execution_count": 78,
   "id": "chief-technique",
   "metadata": {},
   "outputs": [
    {
     "name": "stdout",
     "output_type": "stream",
     "text": [
      "([3, 1, 22], [43.361546022585614, 12.859484606413732, 9.779391183513335])\n"
     ]
    }
   ],
   "source": [
    "print(omp(A, A[:,1]+A[:,3]-A[:,5], 3))"
   ]
  }
 ],
 "metadata": {
  "kernelspec": {
   "display_name": "Python 3",
   "language": "python",
   "name": "python3"
  },
  "language_info": {
   "codemirror_mode": {
    "name": "ipython",
    "version": 3
   },
   "file_extension": ".py",
   "mimetype": "text/x-python",
   "name": "python",
   "nbconvert_exporter": "python",
   "pygments_lexer": "ipython3",
   "version": "3.9.2"
  }
 },
 "nbformat": 4,
 "nbformat_minor": 5
}
