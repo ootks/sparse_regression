{
 "cells": [
  {
   "cell_type": "markdown",
   "id": "7cc9c0c4",
   "metadata": {},
   "source": [
    "# Heuristic Code"
   ]
  },
  {
   "cell_type": "code",
   "execution_count": 275,
   "id": "5efadd47",
   "metadata": {},
   "outputs": [],
   "source": [
    "import numpy as np\n",
    "\n",
    "def char_coeff_FL(X, k):\n",
    "    if k == 0:\n",
    "        return 1\n",
    "    elif k == 1:\n",
    "        return np.trace(X)\n",
    "    powers = [X]\n",
    "    half_k = int(k / 2) \n",
    "    for i in range(half_k):\n",
    "        powers.append(powers[-1] @ X)\n",
    "    traces = [np.trace(A) for A in powers]\n",
    "    for i in range(half_k, k):\n",
    "        traces.append(sum(sum(powers[-1] * powers[i-half_k])))\n",
    "    x = np.array([[fl_matrix_entry(i, j, traces) for j in range(k)] for i in range(k)])\n",
    "    return np.linalg.det(x)\n",
    "\n",
    "def fl_matrix_entry(i, j, l):\n",
    "    if i > j + 1:\n",
    "        return 0 \n",
    "    elif i == j + 1:\n",
    "        return (len(l) - i - 1)/(i+1)\n",
    "    else:\n",
    "        return l[j-i]/(i+1)\n",
    "\n",
    "def char_coeff_eigen(X, k):\n",
    "    return esp(np.linalg.eigvalsh(X), k)\n",
    "\n",
    "def esp(x, k):\n",
    "    n = len(x)\n",
    "    if k == 0:\n",
    "        return n\n",
    "    if k == 1:\n",
    "        return sum(x)\n",
    "    S = np.zeros((n+1, k))\n",
    "    for j in range(1, n+1):\n",
    "        S[j, 0] = S[j-1, 0] + x[j-1]\n",
    "    for i in range(1, k):\n",
    "        for j in range(1, n+1):\n",
    "            S[j, i] = S[j-1, i] + x[j-1] * S[j-1, i-1]\n",
    "    return S[n, k-1]\n",
    "\n",
    "def char_coeff(X, k):\n",
    "    return char_coeff_eigen(X, k)\n",
    "\n",
    "def swap(X, i, j):\n",
    "    for k in range(len(X)):\n",
    "        X[k,i], X[k,j]  = X[k,j], X[k,i]\n",
    "    for k in range(len(X)):\n",
    "        X[i,k], X[j,k]  = X[j,k], X[i,k]\n",
    "\n",
    "def conditional_char(X, t, k):\n",
    "    schur = X[t:, t:] - X[t:, :t] @ np.linalg.inv(X[:t, :t]) @ X[:t, t:]\n",
    "    return np.linalg.det(X[:t, :t]) * char_coeff(schur, k-t)\n",
    "\n",
    "\n",
    "def find_subset(A, b, k):\n",
    "    n = A.shape[1]\n",
    "    T = []\n",
    "    X = np.transpose(A)@A\n",
    "    print(X.shape)\n",
    "    Z = X + (np.transpose(A) @ np.outer(b, b) @ A)\n",
    "\n",
    "    for t in range(k):\n",
    "        best = -1\n",
    "        best_heur = 0\n",
    "        for j in range(t, n):\n",
    "            if j != t:\n",
    "                swap(X, t, j)\n",
    "                swap(Z, t, j)\n",
    "            \n",
    "            pX = conditional_char(X, t+1, k)\n",
    "            pZ = conditional_char(Z, t+1, k)\n",
    "            heur = pZ / pX\n",
    "            if heur > best_heur:\n",
    "                best = j\n",
    "                best_heur = heur\n",
    "            swap(X, t, j)\n",
    "            swap(Z, t, j)\n",
    "        try:\n",
    "            while True:\n",
    "                best = T.index(best)\n",
    "        except ValueError:\n",
    "            T.append(best)\n",
    "        swap(X, t, best)\n",
    "        swap(Z, t, best)\n",
    "    return T\n",
    "\n",
    "def lin_reg(A, b):\n",
    "    temp = np.transpose(A) @ b\n",
    "    return np.dot(b, b) - np.dot(temp, np.linalg.inv(np.transpose(A) @ A) @ temp)"
   ]
  },
  {
   "cell_type": "markdown",
   "id": "ed2d57d2",
   "metadata": {},
   "source": [
    "## Orthogonal Matching Pursuit"
   ]
  },
  {
   "cell_type": "code",
   "execution_count": 181,
   "id": "781b36c5",
   "metadata": {},
   "outputs": [],
   "source": [
    "def omp(A, b, k):\n",
    "    n = A.shape[1]\n",
    "    A = A.copy()\n",
    "    T = []\n",
    "    \n",
    "    for t in range(k):\n",
    "        best = -1\n",
    "        best_obj = 100000\n",
    "        \n",
    "        for i in range(n):\n",
    "            if i in T:\n",
    "                continue\n",
    "            A_T = A[:,T+[i]]\n",
    "            obj = np.linalg.lstsq(A_T, b, rcond=-1)[1]\n",
    "            if len(obj) == 0:\n",
    "                obj = 0\n",
    "            else:\n",
    "                obj = obj[0]\n",
    "            if obj < best_obj:\n",
    "                best = i\n",
    "                best_obj = obj\n",
    "        T.append(best)\n",
    "        best_vec = A[:, best].copy() / np.linalg.norm(A[:,best])\n",
    "        for i in range(n):\n",
    "            A[:,i] -= np.dot(best_vec, A[:,i]) * best_vec\n",
    "        b -= np.dot(best_vec, b) * best_vec\n",
    "    return T"
   ]
  },
  {
   "cell_type": "markdown",
   "id": "2f34fd2a",
   "metadata": {},
   "source": [
    "# Regression with random matrices"
   ]
  },
  {
   "cell_type": "code",
   "execution_count": 284,
   "id": "797f83a8",
   "metadata": {},
   "outputs": [],
   "source": [
    "from sklearn import linear_model\n",
    "clf = linear_model.Lasso(alpha=0.02)\n",
    "import random\n",
    "def test(n,m,k):\n",
    "    T = random.sample(list(range(n)), k)\n",
    "    T.sort()\n",
    "    print(T)\n",
    "    A = np.random.normal(loc = 0, scale = 1, size = (m,n))\n",
    "    b = sum(A[:,i] for i in T)\n",
    "    S1 = find_subset(A, b, k)\n",
    "    S1.sort()\n",
    "    print(S1)\n",
    "    s1 = all(s == t for t, s in zip(T, S1))\n",
    "    lasso = clf.fit(A, b).coef_\n",
    "    S2 = [a[1] for a in sorted([(-abs(x),i) for i,x in enumerate(lasso)])[:k]]\n",
    "    S2.sort()\n",
    "    s2 = all(s == t for t, s in zip(T, S2))\n",
    "    S3 = omp(A,b,k)\n",
    "    S3.sort()\n",
    "    s3 = all(s == t for t, s in zip(T, S3))\n",
    "    return (s1,s2,s3)"
   ]
  },
  {
   "cell_type": "code",
   "execution_count": null,
   "id": "41d50245",
   "metadata": {},
   "outputs": [
    {
     "name": "stdout",
     "output_type": "stream",
     "text": [
      "[1, 8, 14, 62, 67]\n",
      "(100, 100)\n",
      "[1, 3, 14, 62, 67]\n",
      "[52, 67, 77, 81, 82]\n",
      "(100, 100)\n",
      "[52, 67, 77, 81, 82]\n",
      "[10, 18, 22, 54, 99]\n",
      "(100, 100)\n"
     ]
    },
    {
     "name": "stderr",
     "output_type": "stream",
     "text": [
      "C:\\Users\\shuke\\AppData\\Local\\Packages\\PythonSoftwareFoundation.Python.3.9_qbz5n2kfra8p0\\LocalCache\\local-packages\\Python39\\site-packages\\sklearn\\linear_model\\_coordinate_descent.py:648: ConvergenceWarning: Objective did not converge. You might want to increase the number of iterations, check the scale of the features or consider increasing regularisation. Duality gap: 1.118e-02, tolerance: 7.355e-03\n",
      "  model = cd_fast.enet_coordinate_descent(\n"
     ]
    },
    {
     "name": "stdout",
     "output_type": "stream",
     "text": [
      "[10, 18, 22, 34, 54]\n",
      "[9, 14, 38, 64, 89]\n",
      "(100, 100)\n",
      "[9, 14, 38, 64, 89]\n",
      "[5, 7, 69, 74, 93]\n",
      "(100, 100)\n",
      "[5, 7, 69, 74, 93]\n",
      "[37, 38, 54, 72, 93]\n",
      "(100, 100)\n",
      "[37, 38, 54, 72, 93]\n",
      "[49, 72, 73, 76, 92]\n",
      "(100, 100)\n",
      "[49, 72, 73, 76, 92]\n",
      "[9, 13, 22, 69, 99]\n",
      "(100, 100)\n",
      "[9, 13, 22, 69, 99]\n",
      "[9, 20, 28, 69, 79]\n",
      "(100, 100)\n",
      "[9, 20, 28, 50, 79]\n",
      "[0, 22, 28, 32, 97]\n",
      "(100, 100)\n",
      "[0, 22, 28, 32, 42]\n",
      "[6, 9, 0]\n",
      "[12, 25, 41, 47, 82, 88]\n",
      "(100, 100)\n",
      "[12, 15, 25, 41, 47, 82]\n",
      "[4, 26, 33, 40, 61, 81]\n",
      "(100, 100)\n",
      "[4, 26, 33, 40, 61, 81]\n",
      "[8, 33, 36, 52, 88, 99]\n",
      "(100, 100)\n",
      "[8, 33, 36, 42, 88, 99]\n",
      "[0, 4, 17, 41, 47, 81]\n",
      "(100, 100)\n",
      "[0, 3, 4, 17, 41, 81]\n",
      "[13, 24, 46, 49, 52, 86]\n",
      "(100, 100)\n",
      "[13, 24, 46, 49, 52, 86]\n",
      "[17, 29, 32, 36, 48, 54]\n",
      "(100, 100)\n",
      "[3, 32, 40, 82, 83, 92]\n",
      "[33, 36, 37, 40, 80, 82]\n",
      "(100, 100)\n",
      "[11, 22, 33, 37, 38, 40]\n",
      "[0, 4, 16, 38, 69, 83]\n",
      "(100, 100)\n",
      "[0, 2, 3, 4, 16, 69]\n",
      "[6, 17, 83, 88, 96, 99]\n",
      "(100, 100)\n",
      "[17, 30, 72, 77, 83, 96]\n",
      "[11, 15, 16, 23, 75, 91]\n",
      "(100, 100)\n",
      "[11, 13, 56, 69, 72, 92]\n",
      "[2, 8, 1]\n",
      "[0, 18, 36, 38, 40, 63, 95]\n",
      "(100, 100)\n",
      "[0, 1, 2, 4, 5, 63, 95]\n",
      "[17, 25, 27, 59, 60, 63, 94]\n",
      "(100, 100)\n",
      "[17, 25, 27, 59, 60, 63, 94]\n",
      "[10, 17, 44, 46, 63, 72, 79]\n",
      "(100, 100)\n",
      "[1, 2, 10, 17, 44, 63, 79]\n",
      "[3, 4, 49, 63, 71, 92, 97]\n",
      "(100, 100)\n",
      "[3, 4, 49, 63, 71, 92, 97]\n",
      "[3, 11, 18, 40, 46, 75, 99]\n",
      "(100, 100)\n",
      "[11, 18, 40, 46, 75, 94, 99]\n",
      "[0, 23, 26, 69, 87, 92, 97]\n",
      "(100, 100)\n",
      "[0, 4, 5, 26, 69, 87, 97]\n",
      "[6, 32, 40, 48, 57, 83, 98]\n",
      "(100, 100)\n",
      "[6, 32, 40, 48, 57, 83, 98]\n",
      "[14, 28, 31, 45, 59, 61, 72]\n",
      "(100, 100)\n",
      "[14, 15, 31, 45, 53, 59, 76]\n",
      "[5, 36, 41, 42, 50, 59, 88]\n",
      "(100, 100)\n",
      "[5, 36, 41, 42, 50, 59, 88]\n",
      "[12, 15, 44, 50, 57, 64, 70]\n",
      "(100, 100)\n",
      "[12, 15, 44, 50, 57, 64, 70]\n",
      "[5, 6, 0]\n",
      "[0, 3, 16, 53, 72, 80, 92, 97]\n",
      "(100, 100)\n",
      "[16, 26, 30, 37, 53, 61, 80, 92]\n",
      "[19, 34, 37, 66, 81, 94, 97, 98]\n",
      "(100, 100)\n",
      "[13, 19, 34, 64, 66, 81, 83, 94]\n",
      "[7, 11, 30, 37, 66, 67, 84, 98]\n",
      "(100, 100)\n",
      "[7, 11, 30, 37, 66, 67, 84, 98]\n",
      "[5, 10, 52, 56, 61, 66, 82, 85]\n",
      "(100, 100)\n",
      "[21, 44, 52, 53, 61, 69, 71, 87]\n",
      "[4, 20, 22, 25, 47, 61, 66, 90]\n",
      "(100, 100)\n"
     ]
    }
   ],
   "source": [
    "n = 100\n",
    "m = 30\n",
    "iters = 10\n",
    "count_dict = []\n",
    "for k in range(5,25):\n",
    "    counts = [0,0,0]\n",
    "    for i in range(iters):\n",
    "        for i, result in enumerate(test(n,m,k)):\n",
    "            if result:\n",
    "                counts[i] += 1\n",
    "    print(counts)\n",
    "    count_dict.append(counts)\n",
    "print(count_dict)"
   ]
  },
  {
   "cell_type": "code",
   "execution_count": 282,
   "id": "30605122",
   "metadata": {},
   "outputs": [],
   "source": [
    "A = np.random.normal(loc = 0, scale = 1, size = (25,400))"
   ]
  },
  {
   "cell_type": "code",
   "execution_count": 283,
   "id": "292fdcb1",
   "metadata": {},
   "outputs": [
    {
     "name": "stdout",
     "output_type": "stream",
     "text": [
      "(400, 400)\n"
     ]
    },
    {
     "ename": "KeyboardInterrupt",
     "evalue": "",
     "output_type": "error",
     "traceback": [
      "\u001b[1;31m---------------------------------------------------------------------------\u001b[0m",
      "\u001b[1;31mKeyboardInterrupt\u001b[0m                         Traceback (most recent call last)",
      "Input \u001b[1;32mIn [283]\u001b[0m, in \u001b[0;36m<cell line: 2>\u001b[1;34m()\u001b[0m\n\u001b[0;32m      1\u001b[0m \u001b[38;5;66;03m# An example of sparse regression.\u001b[39;00m\n\u001b[1;32m----> 2\u001b[0m \u001b[38;5;28mprint\u001b[39m(\u001b[43mfind_subset\u001b[49m\u001b[43m(\u001b[49m\u001b[43mA\u001b[49m\u001b[43m,\u001b[49m\u001b[43m \u001b[49m\u001b[43mA\u001b[49m\u001b[43m[\u001b[49m\u001b[43m:\u001b[49m\u001b[43m,\u001b[49m\u001b[38;5;241;43m1\u001b[39;49m\u001b[43m]\u001b[49m\u001b[38;5;241;43m+\u001b[39;49m\u001b[43mA\u001b[49m\u001b[43m[\u001b[49m\u001b[43m:\u001b[49m\u001b[43m,\u001b[49m\u001b[38;5;241;43m3\u001b[39;49m\u001b[43m]\u001b[49m\u001b[38;5;241;43m-\u001b[39;49m\u001b[43mA\u001b[49m\u001b[43m[\u001b[49m\u001b[43m:\u001b[49m\u001b[43m,\u001b[49m\u001b[38;5;241;43m5\u001b[39;49m\u001b[43m]\u001b[49m\u001b[43m,\u001b[49m\u001b[43m \u001b[49m\u001b[38;5;241;43m3\u001b[39;49m\u001b[43m)\u001b[49m)\n",
      "Input \u001b[1;32mIn [275]\u001b[0m, in \u001b[0;36mfind_subset\u001b[1;34m(A, b, k)\u001b[0m\n\u001b[0;32m     69\u001b[0m     swap(X, t, j)\n\u001b[0;32m     70\u001b[0m     swap(Z, t, j)\n\u001b[1;32m---> 72\u001b[0m pX \u001b[38;5;241m=\u001b[39m \u001b[43mconditional_char\u001b[49m\u001b[43m(\u001b[49m\u001b[43mX\u001b[49m\u001b[43m,\u001b[49m\u001b[43m \u001b[49m\u001b[43mt\u001b[49m\u001b[38;5;241;43m+\u001b[39;49m\u001b[38;5;241;43m1\u001b[39;49m\u001b[43m,\u001b[49m\u001b[43m \u001b[49m\u001b[43mk\u001b[49m\u001b[43m)\u001b[49m\n\u001b[0;32m     73\u001b[0m pZ \u001b[38;5;241m=\u001b[39m conditional_char(Z, t\u001b[38;5;241m+\u001b[39m\u001b[38;5;241m1\u001b[39m, k)\n\u001b[0;32m     74\u001b[0m heur \u001b[38;5;241m=\u001b[39m pZ \u001b[38;5;241m/\u001b[39m pX\n",
      "Input \u001b[1;32mIn [275]\u001b[0m, in \u001b[0;36mconditional_char\u001b[1;34m(X, t, k)\u001b[0m\n\u001b[0;32m     52\u001b[0m \u001b[38;5;28;01mdef\u001b[39;00m \u001b[38;5;21mconditional_char\u001b[39m(X, t, k):\n\u001b[0;32m     53\u001b[0m     schur \u001b[38;5;241m=\u001b[39m X[t:, t:] \u001b[38;5;241m-\u001b[39m X[t:, :t] \u001b[38;5;241m@\u001b[39m np\u001b[38;5;241m.\u001b[39mlinalg\u001b[38;5;241m.\u001b[39minv(X[:t, :t]) \u001b[38;5;241m@\u001b[39m X[:t, t:]\n\u001b[1;32m---> 54\u001b[0m     \u001b[38;5;28;01mreturn\u001b[39;00m np\u001b[38;5;241m.\u001b[39mlinalg\u001b[38;5;241m.\u001b[39mdet(X[:t, :t]) \u001b[38;5;241m*\u001b[39m \u001b[43mchar_coeff\u001b[49m\u001b[43m(\u001b[49m\u001b[43mschur\u001b[49m\u001b[43m,\u001b[49m\u001b[43m \u001b[49m\u001b[43mk\u001b[49m\u001b[38;5;241;43m-\u001b[39;49m\u001b[43mt\u001b[49m\u001b[43m)\u001b[49m\n",
      "Input \u001b[1;32mIn [275]\u001b[0m, in \u001b[0;36mchar_coeff\u001b[1;34m(X, k)\u001b[0m\n\u001b[0;32m     43\u001b[0m \u001b[38;5;28;01mdef\u001b[39;00m \u001b[38;5;21mchar_coeff\u001b[39m(X, k):\n\u001b[1;32m---> 44\u001b[0m     \u001b[38;5;28;01mreturn\u001b[39;00m \u001b[43mchar_coeff_eigen\u001b[49m\u001b[43m(\u001b[49m\u001b[43mX\u001b[49m\u001b[43m,\u001b[49m\u001b[43m \u001b[49m\u001b[43mk\u001b[49m\u001b[43m)\u001b[49m\n",
      "Input \u001b[1;32mIn [275]\u001b[0m, in \u001b[0;36mchar_coeff_eigen\u001b[1;34m(X, k)\u001b[0m\n\u001b[0;32m     26\u001b[0m \u001b[38;5;28;01mdef\u001b[39;00m \u001b[38;5;21mchar_coeff_eigen\u001b[39m(X, k):\n\u001b[1;32m---> 27\u001b[0m     \u001b[38;5;28;01mreturn\u001b[39;00m esp(\u001b[43mnp\u001b[49m\u001b[38;5;241;43m.\u001b[39;49m\u001b[43mlinalg\u001b[49m\u001b[38;5;241;43m.\u001b[39;49m\u001b[43meigvalsh\u001b[49m\u001b[43m(\u001b[49m\u001b[43mX\u001b[49m\u001b[43m)\u001b[49m, k)\n",
      "File \u001b[1;32m<__array_function__ internals>:180\u001b[0m, in \u001b[0;36meigvalsh\u001b[1;34m(*args, **kwargs)\u001b[0m\n",
      "File \u001b[1;32m~\\AppData\\Local\\Packages\\PythonSoftwareFoundation.Python.3.9_qbz5n2kfra8p0\\LocalCache\\local-packages\\Python39\\site-packages\\numpy\\linalg\\linalg.py:1164\u001b[0m, in \u001b[0;36meigvalsh\u001b[1;34m(a, UPLO)\u001b[0m\n\u001b[0;32m   1162\u001b[0m signature \u001b[38;5;241m=\u001b[39m \u001b[38;5;124m'\u001b[39m\u001b[38;5;124mD->d\u001b[39m\u001b[38;5;124m'\u001b[39m \u001b[38;5;28;01mif\u001b[39;00m isComplexType(t) \u001b[38;5;28;01melse\u001b[39;00m \u001b[38;5;124m'\u001b[39m\u001b[38;5;124md->d\u001b[39m\u001b[38;5;124m'\u001b[39m\n\u001b[0;32m   1163\u001b[0m w \u001b[38;5;241m=\u001b[39m gufunc(a, signature\u001b[38;5;241m=\u001b[39msignature, extobj\u001b[38;5;241m=\u001b[39mextobj)\n\u001b[1;32m-> 1164\u001b[0m \u001b[38;5;28;01mreturn\u001b[39;00m \u001b[43mw\u001b[49m\u001b[38;5;241;43m.\u001b[39;49m\u001b[43mastype\u001b[49m(_realType(result_t), copy\u001b[38;5;241m=\u001b[39m\u001b[38;5;28;01mFalse\u001b[39;00m)\n",
      "\u001b[1;31mKeyboardInterrupt\u001b[0m: "
     ]
    }
   ],
   "source": [
    "# An example of sparse regression.\n",
    "print(find_subset(A, A[:,1]+A[:,3]-A[:,5], 3))"
   ]
  },
  {
   "cell_type": "code",
   "execution_count": 200,
   "id": "0fea3914",
   "metadata": {},
   "outputs": [
    {
     "name": "stdout",
     "output_type": "stream",
     "text": [
      "[ 0.    0.96  0.    0.99  0.   -0.97  0.   -0.   -0.    0.   -0.   -0.\n",
      "  0.   -0.   -0.    0.    0.   -0.    0.    0.   -0.    0.    0.   -0.\n",
      " -0.   -0.   -0.   -0.   -0.    0.   -0.    0.   -0.   -0.    0.    0.\n",
      " -0.    0.   -0.   -0.   -0.   -0.   -0.    0.   -0.    0.    0.   -0.\n",
      "  0.   -0.    0.    0.   -0.    0.    0.    0.    0.    0.   -0.    0.\n",
      " -0.   -0.    0.   -0.    0.   -0.   -0.    0.    0.    0.    0.   -0.\n",
      " -0.   -0.   -0.    0.    0.   -0.    0.    0.   -0.    0.   -0.   -0.\n",
      "  0.    0.   -0.   -0.   -0.    0.    0.    0.   -0.    0.   -0.    0.\n",
      " -0.   -0.    0.   -0.    0.   -0.   -0.    0.   -0.    0.   -0.   -0.\n",
      " -0.   -0.    0.    0.    0.   -0.    0.   -0.    0.   -0.   -0.   -0.\n",
      " -0.   -0.   -0.    0.   -0.   -0.    0.   -0.   -0.    0.    0.    0.\n",
      "  0.   -0.    0.    0.    0.   -0.    0.   -0.   -0.    0.   -0.    0.\n",
      "  0.   -0.    0.   -0.   -0.    0.   -0.   -0.   -0.   -0.   -0.    0.\n",
      " -0.   -0.    0.    0.    0.    0.    0.   -0.   -0.    0.    0.   -0.\n",
      " -0.   -0.   -0.    0.   -0.    0.    0.   -0.    0.    0.    0.   -0.\n",
      "  0.   -0.    0.   -0.   -0.    0.   -0.    0.    0.   -0.    0.    0.\n",
      " -0.   -0.   -0.   -0.   -0.   -0.   -0.   -0.   -0.    0.    0.   -0.\n",
      "  0.   -0.   -0.    0.    0.    0.   -0.    0.   -0.   -0.   -0.    0.\n",
      " -0.    0.   -0.    0.    0.   -0.   -0.    0.    0.   -0.   -0.    0.\n",
      "  0.    0.   -0.   -0.    0.   -0.   -0.    0.    0.    0.   -0.    0.\n",
      "  0.   -0.    0.    0.    0.    0.   -0.    0.    0.   -0.    0.    0.\n",
      " -0.    0.   -0.   -0.    0.    0.    0.    0.   -0.   -0.    0.   -0.\n",
      "  0.   -0.   -0.    0.   -0.    0.   -0.   -0.   -0.   -0.    0.   -0.\n",
      " -0.    0.   -0.    0.   -0.    0.   -0.    0.    0.    0.   -0.   -0.\n",
      " -0.    0.   -0.   -0.   -0.   -0.    0.   -0.    0.   -0.   -0.   -0.\n",
      " -0.    0.    0.    0.   -0.    0.    0.    0.    0.    0.   -0.   -0.\n",
      "  0.   -0.   -0.   -0.    0.    0.   -0.    0.   -0.   -0.    0.    0.\n",
      "  0.   -0.   -0.   -0.   -0.    0.   -0.   -0.    0.    0.    0.   -0.\n",
      "  0.    0.    0.   -0.    0.   -0.   -0.    0.    0.   -0.   -0.    0.\n",
      " -0.    0.   -0.    0.    0.    0.    0.    0.    0.   -0.    0.   -0.\n",
      " -0.    0.   -0.   -0.    0.    0.   -0.   -0.   -0.   -0.   -0.   -0.\n",
      "  0.   -0.   -0.    0.   -0.   -0.   -0.   -0.    0.    0.    0.    0.\n",
      " -0.   -0.   -0.   -0.   -0.    0.   -0.   -0.    0.    0.   -0.    0.\n",
      "  0.   -0.   -0.   -0.  ]\n"
     ]
    },
    {
     "data": {
      "text/plain": [
       "[3, 5, 1]"
      ]
     },
     "execution_count": 200,
     "metadata": {},
     "output_type": "execute_result"
    }
   ],
   "source": [
    "from sklearn import linear_model\n",
    "clf = linear_model.Lasso(alpha=0.02)\n",
    "clf.fit(A, A[:,1]+A[:,3]-A[:,5])\n",
    "lasso = (clf.coef_)\n",
    "print(lasso)\n",
    "[a[1] for a in sorted([(-abs(x),i) for i,x in enumerate(lasso)])[:3]]"
   ]
  },
  {
   "cell_type": "code",
   "execution_count": 194,
   "id": "3cba2336",
   "metadata": {},
   "outputs": [
    {
     "name": "stdout",
     "output_type": "stream",
     "text": [
      "[3, 5, 1]\n"
     ]
    }
   ],
   "source": [
    "print(omp(A, A[:,1]+A[:,3]-A[:,5], 3))"
   ]
  },
  {
   "cell_type": "markdown",
   "id": "ed6e53d9",
   "metadata": {},
   "source": [
    "# Pandas Dataframe Example"
   ]
  },
  {
   "cell_type": "code",
   "execution_count": 71,
   "id": "b7ef64bd",
   "metadata": {},
   "outputs": [],
   "source": [
    "import pandas as pd\n",
    "df = pd.read_csv(\"winequality-red.csv\", delimiter=\";\")\n",
    "A = df.to_numpy()"
   ]
  },
  {
   "cell_type": "code",
   "execution_count": 98,
   "id": "6847a8d5",
   "metadata": {},
   "outputs": [
    {
     "data": {
      "text/plain": [
       "[10, 9, 7, 1]"
      ]
     },
     "execution_count": 98,
     "metadata": {},
     "output_type": "execute_result"
    }
   ],
   "source": [
    "b = A[:, 11]\n",
    "A = A[:, :11]\n",
    "print(find_subset(A, b,4))"
   ]
  },
  {
   "cell_type": "code",
   "execution_count": 99,
   "id": "6be6d209",
   "metadata": {},
   "outputs": [
    {
     "data": {
      "text/plain": [
       "691.9758795394227"
      ]
     },
     "execution_count": 99,
     "metadata": {},
     "output_type": "execute_result"
    }
   ],
   "source": [
    "# volatile aacidity, density, sulphates, alcohol\n",
    "lin_reg(A[:,[10, 9, 7, 1]], b)"
   ]
  },
  {
   "cell_type": "code",
   "execution_count": 100,
   "id": "dc574d94",
   "metadata": {},
   "outputs": [
    {
     "name": "stdout",
     "output_type": "stream",
     "text": [
      "[ 0.031408   -0.          0.          0.         -0.          0.00571672\n",
      " -0.00377281 -0.         -0.          0.          0.25583985]\n"
     ]
    }
   ],
   "source": [
    "from sklearn import linear_model\n",
    "clf = linear_model.Lasso(alpha=0.1)\n",
    "clf.fit(A, b)\n",
    "print(clf.coef_)"
   ]
  },
  {
   "cell_type": "code",
   "execution_count": 101,
   "id": "faba5d75",
   "metadata": {},
   "outputs": [
    {
     "data": {
      "text/plain": [
       "793.3826151041285"
      ]
     },
     "execution_count": 101,
     "metadata": {},
     "output_type": "execute_result"
    }
   ],
   "source": [
    "# fixed acidity, free sulfur dioxide, total sulphur dioxide, alcohol.\n",
    "lin_reg(A[:,[0,5,6,10]],b)"
   ]
  },
  {
   "cell_type": "code",
   "execution_count": 102,
   "id": "b736e4a0",
   "metadata": {},
   "outputs": [
    {
     "data": {
      "text/html": [
       "<div>\n",
       "<style scoped>\n",
       "    .dataframe tbody tr th:only-of-type {\n",
       "        vertical-align: middle;\n",
       "    }\n",
       "\n",
       "    .dataframe tbody tr th {\n",
       "        vertical-align: top;\n",
       "    }\n",
       "\n",
       "    .dataframe thead th {\n",
       "        text-align: right;\n",
       "    }\n",
       "</style>\n",
       "<table border=\"1\" class=\"dataframe\">\n",
       "  <thead>\n",
       "    <tr style=\"text-align: right;\">\n",
       "      <th></th>\n",
       "      <th>fixed acidity</th>\n",
       "      <th>volatile acidity</th>\n",
       "      <th>citric acid</th>\n",
       "      <th>residual sugar</th>\n",
       "      <th>chlorides</th>\n",
       "      <th>free sulfur dioxide</th>\n",
       "      <th>total sulfur dioxide</th>\n",
       "      <th>density</th>\n",
       "      <th>pH</th>\n",
       "      <th>sulphates</th>\n",
       "      <th>alcohol</th>\n",
       "      <th>quality</th>\n",
       "    </tr>\n",
       "  </thead>\n",
       "  <tbody>\n",
       "    <tr>\n",
       "      <th>0</th>\n",
       "      <td>7.4</td>\n",
       "      <td>0.700</td>\n",
       "      <td>0.00</td>\n",
       "      <td>1.9</td>\n",
       "      <td>0.076</td>\n",
       "      <td>11.0</td>\n",
       "      <td>34.0</td>\n",
       "      <td>0.99780</td>\n",
       "      <td>3.51</td>\n",
       "      <td>0.56</td>\n",
       "      <td>9.4</td>\n",
       "      <td>5</td>\n",
       "    </tr>\n",
       "    <tr>\n",
       "      <th>1</th>\n",
       "      <td>7.8</td>\n",
       "      <td>0.880</td>\n",
       "      <td>0.00</td>\n",
       "      <td>2.6</td>\n",
       "      <td>0.098</td>\n",
       "      <td>25.0</td>\n",
       "      <td>67.0</td>\n",
       "      <td>0.99680</td>\n",
       "      <td>3.20</td>\n",
       "      <td>0.68</td>\n",
       "      <td>9.8</td>\n",
       "      <td>5</td>\n",
       "    </tr>\n",
       "    <tr>\n",
       "      <th>2</th>\n",
       "      <td>7.8</td>\n",
       "      <td>0.760</td>\n",
       "      <td>0.04</td>\n",
       "      <td>2.3</td>\n",
       "      <td>0.092</td>\n",
       "      <td>15.0</td>\n",
       "      <td>54.0</td>\n",
       "      <td>0.99700</td>\n",
       "      <td>3.26</td>\n",
       "      <td>0.65</td>\n",
       "      <td>9.8</td>\n",
       "      <td>5</td>\n",
       "    </tr>\n",
       "    <tr>\n",
       "      <th>3</th>\n",
       "      <td>11.2</td>\n",
       "      <td>0.280</td>\n",
       "      <td>0.56</td>\n",
       "      <td>1.9</td>\n",
       "      <td>0.075</td>\n",
       "      <td>17.0</td>\n",
       "      <td>60.0</td>\n",
       "      <td>0.99800</td>\n",
       "      <td>3.16</td>\n",
       "      <td>0.58</td>\n",
       "      <td>9.8</td>\n",
       "      <td>6</td>\n",
       "    </tr>\n",
       "    <tr>\n",
       "      <th>4</th>\n",
       "      <td>7.4</td>\n",
       "      <td>0.700</td>\n",
       "      <td>0.00</td>\n",
       "      <td>1.9</td>\n",
       "      <td>0.076</td>\n",
       "      <td>11.0</td>\n",
       "      <td>34.0</td>\n",
       "      <td>0.99780</td>\n",
       "      <td>3.51</td>\n",
       "      <td>0.56</td>\n",
       "      <td>9.4</td>\n",
       "      <td>5</td>\n",
       "    </tr>\n",
       "    <tr>\n",
       "      <th>...</th>\n",
       "      <td>...</td>\n",
       "      <td>...</td>\n",
       "      <td>...</td>\n",
       "      <td>...</td>\n",
       "      <td>...</td>\n",
       "      <td>...</td>\n",
       "      <td>...</td>\n",
       "      <td>...</td>\n",
       "      <td>...</td>\n",
       "      <td>...</td>\n",
       "      <td>...</td>\n",
       "      <td>...</td>\n",
       "    </tr>\n",
       "    <tr>\n",
       "      <th>1594</th>\n",
       "      <td>6.2</td>\n",
       "      <td>0.600</td>\n",
       "      <td>0.08</td>\n",
       "      <td>2.0</td>\n",
       "      <td>0.090</td>\n",
       "      <td>32.0</td>\n",
       "      <td>44.0</td>\n",
       "      <td>0.99490</td>\n",
       "      <td>3.45</td>\n",
       "      <td>0.58</td>\n",
       "      <td>10.5</td>\n",
       "      <td>5</td>\n",
       "    </tr>\n",
       "    <tr>\n",
       "      <th>1595</th>\n",
       "      <td>5.9</td>\n",
       "      <td>0.550</td>\n",
       "      <td>0.10</td>\n",
       "      <td>2.2</td>\n",
       "      <td>0.062</td>\n",
       "      <td>39.0</td>\n",
       "      <td>51.0</td>\n",
       "      <td>0.99512</td>\n",
       "      <td>3.52</td>\n",
       "      <td>0.76</td>\n",
       "      <td>11.2</td>\n",
       "      <td>6</td>\n",
       "    </tr>\n",
       "    <tr>\n",
       "      <th>1596</th>\n",
       "      <td>6.3</td>\n",
       "      <td>0.510</td>\n",
       "      <td>0.13</td>\n",
       "      <td>2.3</td>\n",
       "      <td>0.076</td>\n",
       "      <td>29.0</td>\n",
       "      <td>40.0</td>\n",
       "      <td>0.99574</td>\n",
       "      <td>3.42</td>\n",
       "      <td>0.75</td>\n",
       "      <td>11.0</td>\n",
       "      <td>6</td>\n",
       "    </tr>\n",
       "    <tr>\n",
       "      <th>1597</th>\n",
       "      <td>5.9</td>\n",
       "      <td>0.645</td>\n",
       "      <td>0.12</td>\n",
       "      <td>2.0</td>\n",
       "      <td>0.075</td>\n",
       "      <td>32.0</td>\n",
       "      <td>44.0</td>\n",
       "      <td>0.99547</td>\n",
       "      <td>3.57</td>\n",
       "      <td>0.71</td>\n",
       "      <td>10.2</td>\n",
       "      <td>5</td>\n",
       "    </tr>\n",
       "    <tr>\n",
       "      <th>1598</th>\n",
       "      <td>6.0</td>\n",
       "      <td>0.310</td>\n",
       "      <td>0.47</td>\n",
       "      <td>3.6</td>\n",
       "      <td>0.067</td>\n",
       "      <td>18.0</td>\n",
       "      <td>42.0</td>\n",
       "      <td>0.99549</td>\n",
       "      <td>3.39</td>\n",
       "      <td>0.66</td>\n",
       "      <td>11.0</td>\n",
       "      <td>6</td>\n",
       "    </tr>\n",
       "  </tbody>\n",
       "</table>\n",
       "<p>1599 rows × 12 columns</p>\n",
       "</div>"
      ],
      "text/plain": [
       "      fixed acidity  volatile acidity  citric acid  residual sugar  chlorides  \\\n",
       "0               7.4             0.700         0.00             1.9      0.076   \n",
       "1               7.8             0.880         0.00             2.6      0.098   \n",
       "2               7.8             0.760         0.04             2.3      0.092   \n",
       "3              11.2             0.280         0.56             1.9      0.075   \n",
       "4               7.4             0.700         0.00             1.9      0.076   \n",
       "...             ...               ...          ...             ...        ...   \n",
       "1594            6.2             0.600         0.08             2.0      0.090   \n",
       "1595            5.9             0.550         0.10             2.2      0.062   \n",
       "1596            6.3             0.510         0.13             2.3      0.076   \n",
       "1597            5.9             0.645         0.12             2.0      0.075   \n",
       "1598            6.0             0.310         0.47             3.6      0.067   \n",
       "\n",
       "      free sulfur dioxide  total sulfur dioxide  density    pH  sulphates  \\\n",
       "0                    11.0                  34.0  0.99780  3.51       0.56   \n",
       "1                    25.0                  67.0  0.99680  3.20       0.68   \n",
       "2                    15.0                  54.0  0.99700  3.26       0.65   \n",
       "3                    17.0                  60.0  0.99800  3.16       0.58   \n",
       "4                    11.0                  34.0  0.99780  3.51       0.56   \n",
       "...                   ...                   ...      ...   ...        ...   \n",
       "1594                 32.0                  44.0  0.99490  3.45       0.58   \n",
       "1595                 39.0                  51.0  0.99512  3.52       0.76   \n",
       "1596                 29.0                  40.0  0.99574  3.42       0.75   \n",
       "1597                 32.0                  44.0  0.99547  3.57       0.71   \n",
       "1598                 18.0                  42.0  0.99549  3.39       0.66   \n",
       "\n",
       "      alcohol  quality  \n",
       "0         9.4        5  \n",
       "1         9.8        5  \n",
       "2         9.8        5  \n",
       "3         9.8        6  \n",
       "4         9.4        5  \n",
       "...       ...      ...  \n",
       "1594     10.5        5  \n",
       "1595     11.2        6  \n",
       "1596     11.0        6  \n",
       "1597     10.2        5  \n",
       "1598     11.0        6  \n",
       "\n",
       "[1599 rows x 12 columns]"
      ]
     },
     "execution_count": 102,
     "metadata": {},
     "output_type": "execute_result"
    }
   ],
   "source": [
    "df"
   ]
  },
  {
   "cell_type": "markdown",
   "id": "d2b83974",
   "metadata": {},
   "source": [
    "# Sklearn Diabetes Data"
   ]
  },
  {
   "cell_type": "code",
   "execution_count": 103,
   "id": "62e408d5",
   "metadata": {},
   "outputs": [],
   "source": [
    "from sklearn.datasets import load_diabetes\n",
    "diabetes = load_diabetes()"
   ]
  },
  {
   "cell_type": "code",
   "execution_count": 104,
   "id": "564a26d8",
   "metadata": {},
   "outputs": [
    {
     "data": {
      "text/plain": [
       "[2, 8, 3, 4]"
      ]
     },
     "execution_count": 104,
     "metadata": {},
     "output_type": "execute_result"
    }
   ],
   "source": [
    "find_subset(diabetes[\"data\"], diabetes[\"target\"], 4)"
   ]
  },
  {
   "cell_type": "code",
   "execution_count": 105,
   "id": "9b34fe0f",
   "metadata": {},
   "outputs": [
    {
     "data": {
      "text/plain": [
       "11561343.279130083"
      ]
     },
     "execution_count": 105,
     "metadata": {},
     "output_type": "execute_result"
    }
   ],
   "source": [
    "lin_reg(diabetes[\"data\"][:,[2, 8, 3, 4]], diabetes[\"target\"])"
   ]
  },
  {
   "cell_type": "code",
   "execution_count": 106,
   "id": "9fc4fdaf",
   "metadata": {},
   "outputs": [
    {
     "name": "stdout",
     "output_type": "stream",
     "text": [
      "[  0.          -0.         471.04187427 136.50408382  -0.\n",
      "  -0.         -58.31901693   0.         408.0226847    0.        ]\n"
     ]
    }
   ],
   "source": [
    "clf = linear_model.Lasso(alpha=0.5)\n",
    "clf.fit(diabetes[\"data\"], diabetes[\"target\"])\n",
    "print(clf.coef_)"
   ]
  },
  {
   "cell_type": "code",
   "execution_count": 107,
   "id": "089833f6",
   "metadata": {},
   "outputs": [
    {
     "data": {
      "text/plain": [
       "11562699.344660645"
      ]
     },
     "execution_count": 107,
     "metadata": {},
     "output_type": "execute_result"
    }
   ],
   "source": [
    "lin_reg(diabetes[\"data\"][:, [2, 3, 6, 8]], diabetes[\"target\"])"
   ]
  },
  {
   "cell_type": "markdown",
   "id": "15647fb6",
   "metadata": {},
   "source": [
    "# Small inner products"
   ]
  },
  {
   "cell_type": "code",
   "execution_count": 69,
   "id": "fa290bfb",
   "metadata": {},
   "outputs": [],
   "source": [
    "k = 4\n",
    "m = 2 * k\n",
    "for i in range(10000):\n",
    "    true_dot = 1/(2*k-1) * (2*np.random.rand()-1)\n",
    "    true_bad_dot =  1/(2*k-1) * (2*np.random.rand()-1)\n",
    "    bad_dot =  1/(2*k-1) * (2*np.random.rand()-1)\n",
    "\n",
    "    A = np.array([[1 if i == j else (true_dot if i < k and j < k else (bad_dot if i >= k and j >= k else true_bad_dot)) for i in range(m)] for j in range(m)])\n",
    "    b = A @ [1 if i < k else 0 for i in range(m)]\n",
    "    Z = A + np.outer(b,b)\n",
    "    a0 = conditional_char(Z, 1, k)/conditional_char(A, 1, k)\n",
    "    swap(Z, 0, k)\n",
    "    a1 = conditional_char(Z, 1, k)/conditional_char(A, 1, k)\n",
    "    swap(Z, 0, k)\n",
    "    if a0 < a1:\n",
    "        print(\"failed\")\n",
    "        break"
   ]
  },
  {
   "cell_type": "code",
   "execution_count": 64,
   "id": "e46db99a",
   "metadata": {},
   "outputs": [
    {
     "name": "stdout",
     "output_type": "stream",
     "text": [
      "8.184996409600839\n",
      "2.799782826643721\n",
      "2.923439751008373\n",
      "6.341385266118527\n",
      "2.799782826643721\n",
      "2.264956126515124\n"
     ]
    }
   ],
   "source": [
    "print(conditional_char(Z, 1, k))\n",
    "print(conditional_char(A, 1, k))\n",
    "print(conditional_char(Z, 1, k)/conditional_char(A, 1, k))\n",
    "swap(Z, 0, k)\n",
    "print(conditional_char(Z, 1, k))\n",
    "print(conditional_char(A, 1, k))\n",
    "print(conditional_char(Z, 1, k)/conditional_char(A, 1, k))\n",
    "swap(Z, 0, k)"
   ]
  },
  {
   "cell_type": "code",
   "execution_count": 45,
   "id": "cced2c8c",
   "metadata": {},
   "outputs": [
    {
     "data": {
      "text/plain": [
       "array([0.15, 1.  , 1.33, 1.52])"
      ]
     },
     "execution_count": 45,
     "metadata": {},
     "output_type": "execute_result"
    }
   ],
   "source": [
    "np.linalg.eigvalsh(A)"
   ]
  },
  {
   "cell_type": "code",
   "execution_count": 46,
   "id": "27f5a8ea",
   "metadata": {},
   "outputs": [
    {
     "data": {
      "text/plain": [
       "array([[ 1.  , -0.33, -0.33, -0.33],\n",
       "       [-0.33,  1.  , -0.33, -0.33],\n",
       "       [-0.33, -0.33,  1.  ,  0.  ],\n",
       "       [-0.33, -0.33,  0.  ,  1.  ]])"
      ]
     },
     "execution_count": 46,
     "metadata": {},
     "output_type": "execute_result"
    }
   ],
   "source": [
    "np.set_printoptions(precision=2)\n",
    "A"
   ]
  },
  {
   "cell_type": "code",
   "execution_count": null,
   "id": "15fd1020",
   "metadata": {},
   "outputs": [],
   "source": []
  }
 ],
 "metadata": {
  "kernelspec": {
   "display_name": "Python 3 (ipykernel)",
   "language": "python",
   "name": "python3"
  },
  "language_info": {
   "codemirror_mode": {
    "name": "ipython",
    "version": 3
   },
   "file_extension": ".py",
   "mimetype": "text/x-python",
   "name": "python",
   "nbconvert_exporter": "python",
   "pygments_lexer": "ipython3",
   "version": "3.9.12"
  }
 },
 "nbformat": 4,
 "nbformat_minor": 5
}
